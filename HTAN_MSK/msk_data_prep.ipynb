{
 "cells": [
  {
   "cell_type": "code",
   "execution_count": 4,
   "id": "3df40e33",
   "metadata": {},
   "outputs": [],
   "source": [
    "import scanpy as sc\n",
    "import numpy as np\n",
    "import pandas as pd\n",
    "import matplotlib.pyplot as plt\n",
    "import synapseclient"
   ]
  },
  {
   "cell_type": "markdown",
   "id": "eb109ee8",
   "metadata": {},
   "source": [
    "# MSK\n",
    "\n",
    "## Loading data"
   ]
  },
  {
   "cell_type": "code",
   "execution_count": 5,
   "id": "8458d858",
   "metadata": {},
   "outputs": [
    {
     "name": "stdout",
     "output_type": "stream",
     "text": [
      "Welcome, heimann!\n",
      "\n"
     ]
    }
   ],
   "source": [
    "syn = synapseclient.Synapse()\n",
    "syn.login()"
   ]
  },
  {
   "cell_type": "code",
   "execution_count": 6,
   "id": "e80b8d16",
   "metadata": {
    "scrolled": true
   },
   "outputs": [
    {
     "data": {
      "text/plain": [
       "AnnData object with n_obs × n_vars = 16475 × 25032\n",
       "    obs: 'n_genes_by_counts', 'log1p_n_genes_by_counts', 'total_counts', 'log1p_total_counts', 'mito_frac', 'RBP_frac', 'batch', 'donor_id', 'treatment', 'procedure', 'author_cell_type', 'cell_type_broad', 'clusters', 'treatment_categorized', 'subtype', 'H_treatment', 'H_subtype', 'cell_type_ontology_term_id', 'tissue_ontology_term_id', 'disease_ontology_term_id', 'organism_ontology_term_id', 'is_primary_data', 'development_stage_ontology_term_id', 'assay_ontology_term_id', 'sex_ontology_term_id', 'self_reported_ethnicity_ontology_term_id', 'suspension_type', 'HTAN_Biospecimen_ID', 'HTAN_Participant_ID', 'tissue_type', 'cell_type', 'assay', 'disease', 'organism', 'sex', 'tissue', 'self_reported_ethnicity', 'development_stage', 'observation_joinid'\n",
       "    var: 'feature_is_filtered', 'feature_name', 'feature_reference', 'feature_biotype', 'feature_length'\n",
       "    uns: 'citation', 'neighbors', 'schema_reference', 'schema_version', 'title'\n",
       "    obsm: 'X_pca', 'X_umap'\n",
       "    layers: 'log2(X+0.1)', 'normalized'\n",
       "    obsp: 'connectivities', 'distances'"
      ]
     },
     "execution_count": 6,
     "metadata": {},
     "output_type": "execute_result"
    }
   ],
   "source": [
    "#Load data\n",
    "entity = syn.get('syn61488601')\n",
    "adata = sc.read_h5ad(entity.path)\n",
    "adata"
   ]
  },
  {
   "cell_type": "code",
   "execution_count": 7,
   "id": "6948e42d-b424-4239-a443-4f585c9d1714",
   "metadata": {},
   "outputs": [
    {
     "data": {
      "text/html": [
       "<div>\n",
       "<style scoped>\n",
       "    .dataframe tbody tr th:only-of-type {\n",
       "        vertical-align: middle;\n",
       "    }\n",
       "\n",
       "    .dataframe tbody tr th {\n",
       "        vertical-align: top;\n",
       "    }\n",
       "\n",
       "    .dataframe thead th {\n",
       "        text-align: right;\n",
       "    }\n",
       "</style>\n",
       "<table border=\"1\" class=\"dataframe\">\n",
       "  <thead>\n",
       "    <tr style=\"text-align: right;\">\n",
       "      <th></th>\n",
       "      <th>sample_id</th>\n",
       "      <th>cell_type</th>\n",
       "      <th>umap_1</th>\n",
       "      <th>umap_2</th>\n",
       "      <th>dataset</th>\n",
       "    </tr>\n",
       "    <tr>\n",
       "      <th>Cell</th>\n",
       "      <th></th>\n",
       "      <th></th>\n",
       "      <th></th>\n",
       "      <th></th>\n",
       "      <th></th>\n",
       "    </tr>\n",
       "  </thead>\n",
       "  <tbody>\n",
       "    <tr>\n",
       "      <th>RU1311A_T_1_165945547864806</th>\n",
       "      <td>HTA8_2016_1</td>\n",
       "      <td>T cells</td>\n",
       "      <td>0.244110</td>\n",
       "      <td>1.536872</td>\n",
       "      <td>MSK</td>\n",
       "    </tr>\n",
       "    <tr>\n",
       "      <th>PleuralEffusion_235007433161052</th>\n",
       "      <td>HTA8_2001_1</td>\n",
       "      <td>T cells</td>\n",
       "      <td>8.241975</td>\n",
       "      <td>-2.223363</td>\n",
       "      <td>MSK</td>\n",
       "    </tr>\n",
       "    <tr>\n",
       "      <th>RU779D_231906420612515</th>\n",
       "      <td>HTA8_2019_1</td>\n",
       "      <td>T cells</td>\n",
       "      <td>1.640177</td>\n",
       "      <td>-2.405717</td>\n",
       "      <td>MSK</td>\n",
       "    </tr>\n",
       "    <tr>\n",
       "      <th>RU1145_133982151621558</th>\n",
       "      <td>HTA8_2008_1</td>\n",
       "      <td>T cells</td>\n",
       "      <td>3.718385</td>\n",
       "      <td>-1.936135</td>\n",
       "      <td>MSK</td>\n",
       "    </tr>\n",
       "    <tr>\n",
       "      <th>RU779D_236700571186918</th>\n",
       "      <td>HTA8_2019_1</td>\n",
       "      <td>T cells</td>\n",
       "      <td>-2.198981</td>\n",
       "      <td>-4.366380</td>\n",
       "      <td>MSK</td>\n",
       "    </tr>\n",
       "    <tr>\n",
       "      <th>...</th>\n",
       "      <td>...</td>\n",
       "      <td>...</td>\n",
       "      <td>...</td>\n",
       "      <td>...</td>\n",
       "      <td>...</td>\n",
       "    </tr>\n",
       "    <tr>\n",
       "      <th>RU1145_157536929573171</th>\n",
       "      <td>HTA8_2008_1</td>\n",
       "      <td>NK</td>\n",
       "      <td>6.983007</td>\n",
       "      <td>-2.508720</td>\n",
       "      <td>MSK</td>\n",
       "    </tr>\n",
       "    <tr>\n",
       "      <th>RU1145_161890937236718</th>\n",
       "      <td>HTA8_2008_1</td>\n",
       "      <td>Myeloid</td>\n",
       "      <td>-9.196468</td>\n",
       "      <td>7.102211</td>\n",
       "      <td>MSK</td>\n",
       "    </tr>\n",
       "    <tr>\n",
       "      <th>PleuralEffusion_131097900824419</th>\n",
       "      <td>HTA8_2001_1</td>\n",
       "      <td>T cells</td>\n",
       "      <td>9.347789</td>\n",
       "      <td>-2.828787</td>\n",
       "      <td>MSK</td>\n",
       "    </tr>\n",
       "    <tr>\n",
       "      <th>RU1065C_200511149259996</th>\n",
       "      <td>HTA8_2002_1</td>\n",
       "      <td>T cells</td>\n",
       "      <td>-0.471265</td>\n",
       "      <td>-4.325292</td>\n",
       "      <td>MSK</td>\n",
       "    </tr>\n",
       "    <tr>\n",
       "      <th>PleuralEffusion_165325615815603</th>\n",
       "      <td>HTA8_2001_1</td>\n",
       "      <td>T cells</td>\n",
       "      <td>2.781430</td>\n",
       "      <td>1.870522</td>\n",
       "      <td>MSK</td>\n",
       "    </tr>\n",
       "  </tbody>\n",
       "</table>\n",
       "<p>16475 rows × 5 columns</p>\n",
       "</div>"
      ],
      "text/plain": [
       "                                   sample_id cell_type    umap_1    umap_2  \\\n",
       "Cell                                                                         \n",
       "RU1311A_T_1_165945547864806      HTA8_2016_1   T cells  0.244110  1.536872   \n",
       "PleuralEffusion_235007433161052  HTA8_2001_1   T cells  8.241975 -2.223363   \n",
       "RU779D_231906420612515           HTA8_2019_1   T cells  1.640177 -2.405717   \n",
       "RU1145_133982151621558           HTA8_2008_1   T cells  3.718385 -1.936135   \n",
       "RU779D_236700571186918           HTA8_2019_1   T cells -2.198981 -4.366380   \n",
       "...                                      ...       ...       ...       ...   \n",
       "RU1145_157536929573171           HTA8_2008_1        NK  6.983007 -2.508720   \n",
       "RU1145_161890937236718           HTA8_2008_1   Myeloid -9.196468  7.102211   \n",
       "PleuralEffusion_131097900824419  HTA8_2001_1   T cells  9.347789 -2.828787   \n",
       "RU1065C_200511149259996          HTA8_2002_1   T cells -0.471265 -4.325292   \n",
       "PleuralEffusion_165325615815603  HTA8_2001_1   T cells  2.781430  1.870522   \n",
       "\n",
       "                                dataset  \n",
       "Cell                                     \n",
       "RU1311A_T_1_165945547864806         MSK  \n",
       "PleuralEffusion_235007433161052     MSK  \n",
       "RU779D_231906420612515              MSK  \n",
       "RU1145_133982151621558              MSK  \n",
       "RU779D_236700571186918              MSK  \n",
       "...                                 ...  \n",
       "RU1145_157536929573171              MSK  \n",
       "RU1145_161890937236718              MSK  \n",
       "PleuralEffusion_131097900824419     MSK  \n",
       "RU1065C_200511149259996             MSK  \n",
       "PleuralEffusion_165325615815603     MSK  \n",
       "\n",
       "[16475 rows x 5 columns]"
      ]
     },
     "execution_count": 7,
     "metadata": {},
     "output_type": "execute_result"
    }
   ],
   "source": [
    "obs_meta = pd.DataFrame({\n",
    "        'sample_id': adata.obs[\"HTAN_Biospecimen_ID\"],\n",
    "        'cell_type': adata.obs[\"cell_type_broad\"],\n",
    "        'umap_1': adata.obsm[\"X_umap\"][:,0], \n",
    "        'umap_2': adata.obsm[\"X_umap\"][:,1],\n",
    "        'dataset': \"MSK\"\n",
    "    }\n",
    ")\n",
    "obs_meta"
   ]
  },
  {
   "cell_type": "code",
   "execution_count": null,
   "id": "658b6836",
   "metadata": {},
   "outputs": [],
   "source": [
    "#let's upload the umap coordinates as a file\n",
    "obs_meta.to_csv('msk_umap.tsv', sep='\\t', index=True)\n",
    "file_entity = synapseclient.File('msk_umap.tsv', 'syn61486283')\n",
    "file_entity = syn.store(file_entity)"
   ]
  },
  {
   "cell_type": "code",
   "execution_count": 28,
   "id": "4c7502b6",
   "metadata": {},
   "outputs": [
    {
     "data": {
      "text/html": [
       "<div>\n",
       "<style scoped>\n",
       "    .dataframe tbody tr th:only-of-type {\n",
       "        vertical-align: middle;\n",
       "    }\n",
       "\n",
       "    .dataframe tbody tr th {\n",
       "        vertical-align: top;\n",
       "    }\n",
       "\n",
       "    .dataframe thead th {\n",
       "        text-align: right;\n",
       "    }\n",
       "</style>\n",
       "<table border=\"1\" class=\"dataframe\">\n",
       "  <thead>\n",
       "    <tr style=\"text-align: right;\">\n",
       "      <th>gene_ids</th>\n",
       "      <th>ENSG00000121410</th>\n",
       "      <th>ENSG00000148584</th>\n",
       "      <th>ENSG00000175899</th>\n",
       "      <th>ENSG00000166535</th>\n",
       "      <th>ENSG00000184389</th>\n",
       "      <th>ENSG00000128274</th>\n",
       "      <th>ENSG00000118017</th>\n",
       "      <th>ENSG00000094914</th>\n",
       "      <th>ENSG00000081760</th>\n",
       "      <th>ENSG00000114771</th>\n",
       "      <th>...</th>\n",
       "      <th>ENSG00000174442</th>\n",
       "      <th>ENSG00000122952</th>\n",
       "      <th>ENSG00000198205</th>\n",
       "      <th>ENSG00000198455</th>\n",
       "      <th>ENSG00000070476</th>\n",
       "      <th>ENSG00000203995</th>\n",
       "      <th>ENSG00000162378</th>\n",
       "      <th>ENSG00000159840</th>\n",
       "      <th>ENSG00000074755</th>\n",
       "      <th>ENSG00000036549</th>\n",
       "    </tr>\n",
       "    <tr>\n",
       "      <th>Cell</th>\n",
       "      <th></th>\n",
       "      <th></th>\n",
       "      <th></th>\n",
       "      <th></th>\n",
       "      <th></th>\n",
       "      <th></th>\n",
       "      <th></th>\n",
       "      <th></th>\n",
       "      <th></th>\n",
       "      <th></th>\n",
       "      <th></th>\n",
       "      <th></th>\n",
       "      <th></th>\n",
       "      <th></th>\n",
       "      <th></th>\n",
       "      <th></th>\n",
       "      <th></th>\n",
       "      <th></th>\n",
       "      <th></th>\n",
       "      <th></th>\n",
       "      <th></th>\n",
       "    </tr>\n",
       "  </thead>\n",
       "  <tbody>\n",
       "    <tr>\n",
       "      <th>RU1311A_T_1_165945547864806</th>\n",
       "      <td>0.000000</td>\n",
       "      <td>0.0</td>\n",
       "      <td>0.0</td>\n",
       "      <td>0.0</td>\n",
       "      <td>0.0</td>\n",
       "      <td>0.0</td>\n",
       "      <td>0.0</td>\n",
       "      <td>0.0</td>\n",
       "      <td>0.000000</td>\n",
       "      <td>0.0</td>\n",
       "      <td>...</td>\n",
       "      <td>0.0</td>\n",
       "      <td>0.0</td>\n",
       "      <td>0.000000</td>\n",
       "      <td>0.0</td>\n",
       "      <td>0.0</td>\n",
       "      <td>0.0</td>\n",
       "      <td>0.00000</td>\n",
       "      <td>0.000000</td>\n",
       "      <td>0.0</td>\n",
       "      <td>0.0</td>\n",
       "    </tr>\n",
       "    <tr>\n",
       "      <th>PleuralEffusion_235007433161052</th>\n",
       "      <td>0.000000</td>\n",
       "      <td>0.0</td>\n",
       "      <td>0.0</td>\n",
       "      <td>0.0</td>\n",
       "      <td>0.0</td>\n",
       "      <td>0.0</td>\n",
       "      <td>0.0</td>\n",
       "      <td>0.0</td>\n",
       "      <td>0.000000</td>\n",
       "      <td>0.0</td>\n",
       "      <td>...</td>\n",
       "      <td>0.0</td>\n",
       "      <td>0.0</td>\n",
       "      <td>0.000000</td>\n",
       "      <td>0.0</td>\n",
       "      <td>0.0</td>\n",
       "      <td>0.0</td>\n",
       "      <td>0.00000</td>\n",
       "      <td>0.000000</td>\n",
       "      <td>0.0</td>\n",
       "      <td>0.0</td>\n",
       "    </tr>\n",
       "    <tr>\n",
       "      <th>RU779D_231906420612515</th>\n",
       "      <td>0.000000</td>\n",
       "      <td>0.0</td>\n",
       "      <td>0.0</td>\n",
       "      <td>0.0</td>\n",
       "      <td>0.0</td>\n",
       "      <td>0.0</td>\n",
       "      <td>0.0</td>\n",
       "      <td>0.0</td>\n",
       "      <td>0.000000</td>\n",
       "      <td>0.0</td>\n",
       "      <td>...</td>\n",
       "      <td>0.0</td>\n",
       "      <td>0.0</td>\n",
       "      <td>0.000000</td>\n",
       "      <td>0.0</td>\n",
       "      <td>0.0</td>\n",
       "      <td>0.0</td>\n",
       "      <td>0.00000</td>\n",
       "      <td>0.000000</td>\n",
       "      <td>0.0</td>\n",
       "      <td>0.0</td>\n",
       "    </tr>\n",
       "    <tr>\n",
       "      <th>RU1145_133982151621558</th>\n",
       "      <td>0.000000</td>\n",
       "      <td>0.0</td>\n",
       "      <td>0.0</td>\n",
       "      <td>0.0</td>\n",
       "      <td>0.0</td>\n",
       "      <td>0.0</td>\n",
       "      <td>0.0</td>\n",
       "      <td>0.0</td>\n",
       "      <td>1.723583</td>\n",
       "      <td>0.0</td>\n",
       "      <td>...</td>\n",
       "      <td>0.0</td>\n",
       "      <td>0.0</td>\n",
       "      <td>0.000000</td>\n",
       "      <td>0.0</td>\n",
       "      <td>0.0</td>\n",
       "      <td>0.0</td>\n",
       "      <td>0.00000</td>\n",
       "      <td>0.000000</td>\n",
       "      <td>0.0</td>\n",
       "      <td>0.0</td>\n",
       "    </tr>\n",
       "    <tr>\n",
       "      <th>RU779D_236700571186918</th>\n",
       "      <td>1.472292</td>\n",
       "      <td>0.0</td>\n",
       "      <td>0.0</td>\n",
       "      <td>0.0</td>\n",
       "      <td>0.0</td>\n",
       "      <td>0.0</td>\n",
       "      <td>0.0</td>\n",
       "      <td>0.0</td>\n",
       "      <td>0.000000</td>\n",
       "      <td>0.0</td>\n",
       "      <td>...</td>\n",
       "      <td>0.0</td>\n",
       "      <td>0.0</td>\n",
       "      <td>1.472292</td>\n",
       "      <td>0.0</td>\n",
       "      <td>0.0</td>\n",
       "      <td>0.0</td>\n",
       "      <td>0.00000</td>\n",
       "      <td>2.185627</td>\n",
       "      <td>0.0</td>\n",
       "      <td>0.0</td>\n",
       "    </tr>\n",
       "    <tr>\n",
       "      <th>...</th>\n",
       "      <td>...</td>\n",
       "      <td>...</td>\n",
       "      <td>...</td>\n",
       "      <td>...</td>\n",
       "      <td>...</td>\n",
       "      <td>...</td>\n",
       "      <td>...</td>\n",
       "      <td>...</td>\n",
       "      <td>...</td>\n",
       "      <td>...</td>\n",
       "      <td>...</td>\n",
       "      <td>...</td>\n",
       "      <td>...</td>\n",
       "      <td>...</td>\n",
       "      <td>...</td>\n",
       "      <td>...</td>\n",
       "      <td>...</td>\n",
       "      <td>...</td>\n",
       "      <td>...</td>\n",
       "      <td>...</td>\n",
       "      <td>...</td>\n",
       "    </tr>\n",
       "    <tr>\n",
       "      <th>RU1145_157536929573171</th>\n",
       "      <td>0.000000</td>\n",
       "      <td>0.0</td>\n",
       "      <td>0.0</td>\n",
       "      <td>0.0</td>\n",
       "      <td>0.0</td>\n",
       "      <td>0.0</td>\n",
       "      <td>0.0</td>\n",
       "      <td>0.0</td>\n",
       "      <td>0.000000</td>\n",
       "      <td>0.0</td>\n",
       "      <td>...</td>\n",
       "      <td>0.0</td>\n",
       "      <td>0.0</td>\n",
       "      <td>0.000000</td>\n",
       "      <td>0.0</td>\n",
       "      <td>0.0</td>\n",
       "      <td>0.0</td>\n",
       "      <td>0.00000</td>\n",
       "      <td>0.000000</td>\n",
       "      <td>0.0</td>\n",
       "      <td>0.0</td>\n",
       "    </tr>\n",
       "    <tr>\n",
       "      <th>RU1145_161890937236718</th>\n",
       "      <td>0.000000</td>\n",
       "      <td>0.0</td>\n",
       "      <td>0.0</td>\n",
       "      <td>0.0</td>\n",
       "      <td>0.0</td>\n",
       "      <td>0.0</td>\n",
       "      <td>0.0</td>\n",
       "      <td>0.0</td>\n",
       "      <td>0.000000</td>\n",
       "      <td>0.0</td>\n",
       "      <td>...</td>\n",
       "      <td>0.0</td>\n",
       "      <td>0.0</td>\n",
       "      <td>0.000000</td>\n",
       "      <td>0.0</td>\n",
       "      <td>0.0</td>\n",
       "      <td>0.0</td>\n",
       "      <td>0.00000</td>\n",
       "      <td>0.000000</td>\n",
       "      <td>0.0</td>\n",
       "      <td>0.0</td>\n",
       "    </tr>\n",
       "    <tr>\n",
       "      <th>PleuralEffusion_131097900824419</th>\n",
       "      <td>0.000000</td>\n",
       "      <td>0.0</td>\n",
       "      <td>0.0</td>\n",
       "      <td>0.0</td>\n",
       "      <td>0.0</td>\n",
       "      <td>0.0</td>\n",
       "      <td>0.0</td>\n",
       "      <td>0.0</td>\n",
       "      <td>0.000000</td>\n",
       "      <td>0.0</td>\n",
       "      <td>...</td>\n",
       "      <td>0.0</td>\n",
       "      <td>0.0</td>\n",
       "      <td>0.000000</td>\n",
       "      <td>0.0</td>\n",
       "      <td>0.0</td>\n",
       "      <td>0.0</td>\n",
       "      <td>0.00000</td>\n",
       "      <td>2.611757</td>\n",
       "      <td>0.0</td>\n",
       "      <td>0.0</td>\n",
       "    </tr>\n",
       "    <tr>\n",
       "      <th>RU1065C_200511149259996</th>\n",
       "      <td>2.238860</td>\n",
       "      <td>0.0</td>\n",
       "      <td>0.0</td>\n",
       "      <td>0.0</td>\n",
       "      <td>0.0</td>\n",
       "      <td>0.0</td>\n",
       "      <td>0.0</td>\n",
       "      <td>0.0</td>\n",
       "      <td>0.000000</td>\n",
       "      <td>0.0</td>\n",
       "      <td>...</td>\n",
       "      <td>0.0</td>\n",
       "      <td>0.0</td>\n",
       "      <td>0.000000</td>\n",
       "      <td>0.0</td>\n",
       "      <td>0.0</td>\n",
       "      <td>0.0</td>\n",
       "      <td>2.23886</td>\n",
       "      <td>0.000000</td>\n",
       "      <td>0.0</td>\n",
       "      <td>0.0</td>\n",
       "    </tr>\n",
       "    <tr>\n",
       "      <th>PleuralEffusion_165325615815603</th>\n",
       "      <td>0.000000</td>\n",
       "      <td>0.0</td>\n",
       "      <td>0.0</td>\n",
       "      <td>0.0</td>\n",
       "      <td>0.0</td>\n",
       "      <td>0.0</td>\n",
       "      <td>0.0</td>\n",
       "      <td>0.0</td>\n",
       "      <td>0.000000</td>\n",
       "      <td>0.0</td>\n",
       "      <td>...</td>\n",
       "      <td>0.0</td>\n",
       "      <td>0.0</td>\n",
       "      <td>0.000000</td>\n",
       "      <td>0.0</td>\n",
       "      <td>0.0</td>\n",
       "      <td>0.0</td>\n",
       "      <td>0.00000</td>\n",
       "      <td>2.191438</td>\n",
       "      <td>0.0</td>\n",
       "      <td>0.0</td>\n",
       "    </tr>\n",
       "  </tbody>\n",
       "</table>\n",
       "<p>16475 rows × 25090 columns</p>\n",
       "</div>"
      ],
      "text/plain": [
       "gene_ids                         ENSG00000121410  ENSG00000148584  \\\n",
       "Cell                                                                \n",
       "RU1311A_T_1_165945547864806             0.000000              0.0   \n",
       "PleuralEffusion_235007433161052         0.000000              0.0   \n",
       "RU779D_231906420612515                  0.000000              0.0   \n",
       "RU1145_133982151621558                  0.000000              0.0   \n",
       "RU779D_236700571186918                  1.472292              0.0   \n",
       "...                                          ...              ...   \n",
       "RU1145_157536929573171                  0.000000              0.0   \n",
       "RU1145_161890937236718                  0.000000              0.0   \n",
       "PleuralEffusion_131097900824419         0.000000              0.0   \n",
       "RU1065C_200511149259996                 2.238860              0.0   \n",
       "PleuralEffusion_165325615815603         0.000000              0.0   \n",
       "\n",
       "gene_ids                         ENSG00000175899  ENSG00000166535  \\\n",
       "Cell                                                                \n",
       "RU1311A_T_1_165945547864806                  0.0              0.0   \n",
       "PleuralEffusion_235007433161052              0.0              0.0   \n",
       "RU779D_231906420612515                       0.0              0.0   \n",
       "RU1145_133982151621558                       0.0              0.0   \n",
       "RU779D_236700571186918                       0.0              0.0   \n",
       "...                                          ...              ...   \n",
       "RU1145_157536929573171                       0.0              0.0   \n",
       "RU1145_161890937236718                       0.0              0.0   \n",
       "PleuralEffusion_131097900824419              0.0              0.0   \n",
       "RU1065C_200511149259996                      0.0              0.0   \n",
       "PleuralEffusion_165325615815603              0.0              0.0   \n",
       "\n",
       "gene_ids                         ENSG00000184389  ENSG00000128274  \\\n",
       "Cell                                                                \n",
       "RU1311A_T_1_165945547864806                  0.0              0.0   \n",
       "PleuralEffusion_235007433161052              0.0              0.0   \n",
       "RU779D_231906420612515                       0.0              0.0   \n",
       "RU1145_133982151621558                       0.0              0.0   \n",
       "RU779D_236700571186918                       0.0              0.0   \n",
       "...                                          ...              ...   \n",
       "RU1145_157536929573171                       0.0              0.0   \n",
       "RU1145_161890937236718                       0.0              0.0   \n",
       "PleuralEffusion_131097900824419              0.0              0.0   \n",
       "RU1065C_200511149259996                      0.0              0.0   \n",
       "PleuralEffusion_165325615815603              0.0              0.0   \n",
       "\n",
       "gene_ids                         ENSG00000118017  ENSG00000094914  \\\n",
       "Cell                                                                \n",
       "RU1311A_T_1_165945547864806                  0.0              0.0   \n",
       "PleuralEffusion_235007433161052              0.0              0.0   \n",
       "RU779D_231906420612515                       0.0              0.0   \n",
       "RU1145_133982151621558                       0.0              0.0   \n",
       "RU779D_236700571186918                       0.0              0.0   \n",
       "...                                          ...              ...   \n",
       "RU1145_157536929573171                       0.0              0.0   \n",
       "RU1145_161890937236718                       0.0              0.0   \n",
       "PleuralEffusion_131097900824419              0.0              0.0   \n",
       "RU1065C_200511149259996                      0.0              0.0   \n",
       "PleuralEffusion_165325615815603              0.0              0.0   \n",
       "\n",
       "gene_ids                         ENSG00000081760  ENSG00000114771  ...  \\\n",
       "Cell                                                               ...   \n",
       "RU1311A_T_1_165945547864806             0.000000              0.0  ...   \n",
       "PleuralEffusion_235007433161052         0.000000              0.0  ...   \n",
       "RU779D_231906420612515                  0.000000              0.0  ...   \n",
       "RU1145_133982151621558                  1.723583              0.0  ...   \n",
       "RU779D_236700571186918                  0.000000              0.0  ...   \n",
       "...                                          ...              ...  ...   \n",
       "RU1145_157536929573171                  0.000000              0.0  ...   \n",
       "RU1145_161890937236718                  0.000000              0.0  ...   \n",
       "PleuralEffusion_131097900824419         0.000000              0.0  ...   \n",
       "RU1065C_200511149259996                 0.000000              0.0  ...   \n",
       "PleuralEffusion_165325615815603         0.000000              0.0  ...   \n",
       "\n",
       "gene_ids                         ENSG00000174442  ENSG00000122952  \\\n",
       "Cell                                                                \n",
       "RU1311A_T_1_165945547864806                  0.0              0.0   \n",
       "PleuralEffusion_235007433161052              0.0              0.0   \n",
       "RU779D_231906420612515                       0.0              0.0   \n",
       "RU1145_133982151621558                       0.0              0.0   \n",
       "RU779D_236700571186918                       0.0              0.0   \n",
       "...                                          ...              ...   \n",
       "RU1145_157536929573171                       0.0              0.0   \n",
       "RU1145_161890937236718                       0.0              0.0   \n",
       "PleuralEffusion_131097900824419              0.0              0.0   \n",
       "RU1065C_200511149259996                      0.0              0.0   \n",
       "PleuralEffusion_165325615815603              0.0              0.0   \n",
       "\n",
       "gene_ids                         ENSG00000198205  ENSG00000198455  \\\n",
       "Cell                                                                \n",
       "RU1311A_T_1_165945547864806             0.000000              0.0   \n",
       "PleuralEffusion_235007433161052         0.000000              0.0   \n",
       "RU779D_231906420612515                  0.000000              0.0   \n",
       "RU1145_133982151621558                  0.000000              0.0   \n",
       "RU779D_236700571186918                  1.472292              0.0   \n",
       "...                                          ...              ...   \n",
       "RU1145_157536929573171                  0.000000              0.0   \n",
       "RU1145_161890937236718                  0.000000              0.0   \n",
       "PleuralEffusion_131097900824419         0.000000              0.0   \n",
       "RU1065C_200511149259996                 0.000000              0.0   \n",
       "PleuralEffusion_165325615815603         0.000000              0.0   \n",
       "\n",
       "gene_ids                         ENSG00000070476  ENSG00000203995  \\\n",
       "Cell                                                                \n",
       "RU1311A_T_1_165945547864806                  0.0              0.0   \n",
       "PleuralEffusion_235007433161052              0.0              0.0   \n",
       "RU779D_231906420612515                       0.0              0.0   \n",
       "RU1145_133982151621558                       0.0              0.0   \n",
       "RU779D_236700571186918                       0.0              0.0   \n",
       "...                                          ...              ...   \n",
       "RU1145_157536929573171                       0.0              0.0   \n",
       "RU1145_161890937236718                       0.0              0.0   \n",
       "PleuralEffusion_131097900824419              0.0              0.0   \n",
       "RU1065C_200511149259996                      0.0              0.0   \n",
       "PleuralEffusion_165325615815603              0.0              0.0   \n",
       "\n",
       "gene_ids                         ENSG00000162378  ENSG00000159840  \\\n",
       "Cell                                                                \n",
       "RU1311A_T_1_165945547864806              0.00000         0.000000   \n",
       "PleuralEffusion_235007433161052          0.00000         0.000000   \n",
       "RU779D_231906420612515                   0.00000         0.000000   \n",
       "RU1145_133982151621558                   0.00000         0.000000   \n",
       "RU779D_236700571186918                   0.00000         2.185627   \n",
       "...                                          ...              ...   \n",
       "RU1145_157536929573171                   0.00000         0.000000   \n",
       "RU1145_161890937236718                   0.00000         0.000000   \n",
       "PleuralEffusion_131097900824419          0.00000         2.611757   \n",
       "RU1065C_200511149259996                  2.23886         0.000000   \n",
       "PleuralEffusion_165325615815603          0.00000         2.191438   \n",
       "\n",
       "gene_ids                         ENSG00000074755  ENSG00000036549  \n",
       "Cell                                                               \n",
       "RU1311A_T_1_165945547864806                  0.0              0.0  \n",
       "PleuralEffusion_235007433161052              0.0              0.0  \n",
       "RU779D_231906420612515                       0.0              0.0  \n",
       "RU1145_133982151621558                       0.0              0.0  \n",
       "RU779D_236700571186918                       0.0              0.0  \n",
       "...                                          ...              ...  \n",
       "RU1145_157536929573171                       0.0              0.0  \n",
       "RU1145_161890937236718                       0.0              0.0  \n",
       "PleuralEffusion_131097900824419              0.0              0.0  \n",
       "RU1065C_200511149259996                      0.0              0.0  \n",
       "PleuralEffusion_165325615815603              0.0              0.0  \n",
       "\n",
       "[16475 rows x 25090 columns]"
      ]
     },
     "execution_count": 28,
     "metadata": {},
     "output_type": "execute_result"
    }
   ],
   "source": [
    "#let's take a look at the raw counts\n",
    "adata.layers['counts'] = adata.X\n",
    "adata.to_df(layer = \"counts\")"
   ]
  },
  {
   "cell_type": "markdown",
   "id": "4f18bde0",
   "metadata": {},
   "source": [
    "# QC"
   ]
  },
  {
   "cell_type": "markdown",
   "id": "3abd2dd1",
   "metadata": {},
   "source": [
    "This file already has QC metrics in the obs, so we just need to plot them to get a sense of the filtering that needs to be done.\n",
    "\n",
    "According to the study manuscript, the following filtering was performed:\n",
    "\n",
    "*The pipeline then performs the following initial cell filtering steps: 1) true\n",
    "cells are distinguished from empty droplets based on the cumulative distribution of total molecule counts; 2) cells with a high fraction\n",
    "of mitochondrial molecules are filtered (> 20%); and 3) cells with low library complexity are filtered (cells that express very few unique\n",
    "genes). In addition, we perform additional filtering of empty droplets using the CB2 package with parameter ‘‘lower’’ set at 100 to\n",
    "estimate the background distribution of ambient RNA and an FDR threshold of 0.01 for calling real cells (Ni et al., 2020). Putative dou-\n",
    "blets were removed using the DoubletDetection package (https://doi.org/10.5281/zenodo.2658729). Genes that were expressed in\n",
    "more than 10 cells were retained for further analysis.*"
   ]
  },
  {
   "cell_type": "code",
   "execution_count": 22,
   "id": "bdc46eca",
   "metadata": {},
   "outputs": [
    {
     "data": {
      "text/plain": [
       "Text(0, 0.5, 'N cells')"
      ]
     },
     "execution_count": 22,
     "metadata": {},
     "output_type": "execute_result"
    },
    {
     "data": {
      "image/png": "[encoded data removed]",
      "text/plain": [
       "<Figure size 432x288 with 1 Axes>"
      ]
     },
     "metadata": {
      "needs_background": "light"
     },
     "output_type": "display_data"
    }
   ],
   "source": [
    "plt.hist(adata.obs['mito_frac'])\n",
    "plt.xlabel('% mito')\n",
    "plt.ylabel('N cells')"
   ]
  },
  {
   "cell_type": "code",
   "execution_count": 23,
   "id": "aeb232b0",
   "metadata": {},
   "outputs": [
    {
     "data": {
      "text/plain": [
       "count    16475.000000\n",
       "mean         0.065123\n",
       "std          0.039500\n",
       "min          0.000000\n",
       "25%          0.031790\n",
       "50%          0.061619\n",
       "75%          0.087659\n",
       "max          0.200000\n",
       "Name: mito_frac, dtype: float64"
      ]
     },
     "execution_count": 23,
     "metadata": {},
     "output_type": "execute_result"
    }
   ],
   "source": [
    "pd.DataFrame.describe(adata.obs['mito_frac'])"
   ]
  },
  {
   "cell_type": "markdown",
   "id": "73015a9a",
   "metadata": {},
   "source": [
    "We can see from this data that the authors already filtered cells with mito_frac > 20% (as mentioned in the manuscript)"
   ]
  },
  {
   "cell_type": "code",
   "execution_count": 24,
   "id": "3906c46b",
   "metadata": {},
   "outputs": [
    {
     "data": {
      "text/plain": [
       "<matplotlib.lines.Line2D at 0x1d3be5e80>"
      ]
     },
     "execution_count": 24,
     "metadata": {},
     "output_type": "execute_result"
    },
    {
     "data": {
      "image/png": "[encoded data removed]",
      "text/plain": [
       "<Figure size 432x288 with 1 Axes>"
      ]
     },
     "metadata": {
      "needs_background": "light"
     },
     "output_type": "display_data"
    }
   ],
   "source": [
    "#plot histogram of number of counts per cell\n",
    "plt.hist(adata.obs['total_counts'], bins=1000)\n",
    "plt.xlabel('Total counts')\n",
    "plt.ylabel('N cells')\n",
    "plt.axvline(2000, color='red')\n",
    "#plt.xlim(0,1e3) just to take a look if there was filtering around 0 counts per cell"
   ]
  },
  {
   "cell_type": "code",
   "execution_count": 25,
   "id": "ebc23a4b",
   "metadata": {},
   "outputs": [
    {
     "data": {
      "text/plain": [
       "count    16475.000000\n",
       "mean      4787.328125\n",
       "std       4556.438965\n",
       "min        101.000000\n",
       "25%       2389.500000\n",
       "50%       3901.000000\n",
       "75%       5727.500000\n",
       "max      74341.000000\n",
       "Name: total_counts, dtype: float64"
      ]
     },
     "execution_count": 25,
     "metadata": {},
     "output_type": "execute_result"
    }
   ],
   "source": [
    "pd.DataFrame.describe(adata.obs['total_counts'])"
   ]
  },
  {
   "cell_type": "markdown",
   "id": "76662e63",
   "metadata": {},
   "source": [
    "From the plot and the statistics, we can infer that the step 1 in filtering (*1)true cells are distinguished from empty droplets based on the cumulative distribution of total molecule count*) used a threshold of 100 for total counts."
   ]
  },
  {
   "cell_type": "code",
   "execution_count": 26,
   "id": "10557319",
   "metadata": {},
   "outputs": [
    {
     "data": {
      "text/plain": [
       "<matplotlib.lines.Line2D at 0x1d9b93b70>"
      ]
     },
     "execution_count": 26,
     "metadata": {},
     "output_type": "execute_result"
    },
    {
     "data": {
      "image/png": "[encoded data removed]",
      "text/plain": [
       "<Figure size 432x288 with 1 Axes>"
      ]
     },
     "metadata": {
      "needs_background": "light"
     },
     "output_type": "display_data"
    }
   ],
   "source": [
    "#plot histogram of number of unique genes by cells\n",
    "plt.hist(adata.obs['n_genes_by_counts'], bins=100)\n",
    "plt.xlabel('N genes')\n",
    "plt.ylabel('N cells')\n",
    "plt.axvline(500, color='red')\n",
    "#plt.xlim(0,4e3)"
   ]
  },
  {
   "cell_type": "code",
   "execution_count": 27,
   "id": "b4302fff",
   "metadata": {},
   "outputs": [
    {
     "data": {
      "text/plain": [
       "count    16475.000000\n",
       "mean      1412.697785\n",
       "std        842.629600\n",
       "min         71.000000\n",
       "25%        892.500000\n",
       "50%       1301.000000\n",
       "75%       1760.000000\n",
       "max       7431.000000\n",
       "Name: n_genes_by_counts, dtype: float64"
      ]
     },
     "execution_count": 27,
     "metadata": {},
     "output_type": "execute_result"
    }
   ],
   "source": [
    "pd.DataFrame.describe(adata.obs['n_genes_by_counts'])"
   ]
  },
  {
   "cell_type": "markdown",
   "id": "26eaae49",
   "metadata": {},
   "source": [
    "From the plot and the statistics, we can infer that the step 3 in filtering (*3) cells with low library complexity are filtered (cells that express very few unique genes)*) used a threshold of 70 for number of genes expressed by a cell."
   ]
  },
  {
   "cell_type": "markdown",
   "id": "fa614ccd",
   "metadata": {},
   "source": [
    "#### So, it appears that we already have a file with data that went through pre-processing. No further filtering will be made to the original file."
   ]
  },
  {
   "cell_type": "markdown",
   "id": "d02d6839",
   "metadata": {},
   "source": [
    "# Formatting to run pseudobulk"
   ]
  },
  {
   "cell_type": "code",
   "execution_count": 33,
   "id": "14ae77d0",
   "metadata": {},
   "outputs": [
    {
     "name": "stdout",
     "output_type": "stream",
     "text": [
      "WARNING: adata.X seems to be already log-transformed.\n"
     ]
    },
    {
     "name": "stderr",
     "output_type": "stream",
     "text": [
      "/anaconda3/lib/python3.7/site-packages/anndata/_core/anndata.py:798: UserWarning: \n",
      "AnnData expects .var.index to contain strings, but got values like:\n",
      "    ['A1BG', 'A1CF', 'A2M', 'A2ML1', 'A3GALT2']\n",
      "\n",
      "    Inferred to be: categorical\n",
      "\n",
      "  value_idx = self._prep_dim_index(value.index, attr)\n"
     ]
    }
   ],
   "source": [
    "# #change gene id from ensembl to gene symbol (stored in var)\n",
    "adata.var = adata.var.reset_index().rename(columns={'gene_ids': 'ensembl_gene_id'}\n",
    "                                          ).set_index('feature_name')\n",
    "\n",
    "# save raw counts as a layer\n",
    "adata.layers['counts'] = adata.X\n",
    "\n",
    "# Normalize and log-transform\n",
    "sc.pp.normalize_total(adata, target_sum=1e4)\n",
    "sc.pp.log1p(adata)\n",
    "adata.layers['normalized'] = adata.X\n"
   ]
  },
  {
   "cell_type": "code",
   "execution_count": 35,
   "id": "860c6f86",
   "metadata": {
    "scrolled": true
   },
   "outputs": [
    {
     "data": {
      "text/plain": [
       "AnnData object with n_obs × n_vars = 16475 × 25090\n",
       "    obs: 'n_genes_by_counts', 'log1p_n_genes_by_counts', 'total_counts', 'log1p_total_counts', 'mito_frac', 'RBP_frac', 'batch', 'donor_id', 'treatment', 'procedure', 'author_cell_type', 'cell_type_broad', 'clusters', 'treatment_categorized', 'subtype', 'H_treatment', 'H_subtype', 'cell_type_ontology_term_id', 'tissue_ontology_term_id', 'disease_ontology_term_id', 'organism_ontology_term_id', 'is_primary_data', 'development_stage_ontology_term_id', 'assay_ontology_term_id', 'sex_ontology_term_id', 'self_reported_ethnicity_ontology_term_id', 'suspension_type', 'HTAN_Biospecimen_ID', 'HTAN_Participant_ID', 'cell_type', 'assay', 'disease', 'organism', 'sex', 'tissue', 'self_reported_ethnicity', 'development_stage'\n",
       "    var: 'ensembl_gene_id', 'feature_is_filtered', 'feature_reference', 'feature_biotype'\n",
       "    uns: 'neighbors', 'schema_version', 'title', 'log1p'\n",
       "    obsm: 'X_pca', 'X_umap'\n",
       "    layers: 'log2(X+0.1)', 'normalized', 'counts'\n",
       "    obsp: 'connectivities', 'distances'"
      ]
     },
     "execution_count": 35,
     "metadata": {},
     "output_type": "execute_result"
    }
   ],
   "source": [
    "adata"
   ]
  },
  {
   "cell_type": "code",
   "execution_count": 36,
   "id": "ebe88f3b",
   "metadata": {},
   "outputs": [],
   "source": [
    "adata.write('msk_SCLCimmunecells_iatlas.h5ad')\n",
    "file_entity = synapseclient.File('msk_SCLCimmunecells_iatlas.h5ad', 'syn61486284')\n",
    "file_entity = syn.store(file_entity)"
   ]
  }
 ],
 "metadata": {
  "kernelspec": {
   "display_name": "Python 3 (ipykernel)",
   "language": "python",
   "name": "python3"
  },
  "language_info": {
   "codemirror_mode": {
    "name": "ipython",
    "version": 3
   },
   "file_extension": ".py",
   "mimetype": "text/x-python",
   "name": "python",
   "nbconvert_exporter": "python",
   "pygments_lexer": "ipython3",
   "version": "3.11.2"
  }
 },
 "nbformat": 4,
 "nbformat_minor": 5
}
