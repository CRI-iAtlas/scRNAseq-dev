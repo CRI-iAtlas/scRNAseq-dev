{
 "cells": [
  {
   "cell_type": "code",
   "execution_count": 1,
   "id": "3df40e33",
   "metadata": {},
   "outputs": [],
   "source": [
    "import scanpy as sc\n",
    "import numpy as np\n",
    "import pandas as pd\n",
    "import synapseclient\n",
    "import matplotlib.pyplot as plt\n",
    "from scipy.sparse import csr_matrix"
   ]
  },
  {
   "cell_type": "markdown",
   "id": "eb109ee8",
   "metadata": {},
   "source": [
    "# Shiao 2024 dataset\n",
    "Source: https://0-www-ncbi-nlm-nih-gov.brum.beds.ac.uk/geo/query/acc.cgi?acc=GSE246613\n",
    "\n",
    "Stored at: https://www.synapse.org/#!Synapse:syn54861463"
   ]
  },
  {
   "cell_type": "code",
   "execution_count": 2,
   "id": "ff934657-af65-41c9-b0e3-481db3c046fc",
   "metadata": {},
   "outputs": [
    {
     "name": "stdout",
     "output_type": "stream",
     "text": [
      "Welcome, heimann!\n",
      "\n"
     ]
    }
   ],
   "source": [
    "syn = synapseclient.Synapse()\n",
    "syn.login()"
   ]
  },
  {
   "cell_type": "markdown",
   "id": "829e78b9-c0ad-43b3-9bd8-183bc3b18480",
   "metadata": {},
   "source": [
    "## Loading data"
   ]
  },
  {
   "cell_type": "code",
   "execution_count": 3,
   "id": "e80b8d16",
   "metadata": {
    "scrolled": true
   },
   "outputs": [
    {
     "data": {
      "text/plain": [
       "AnnData object with n_obs × n_vars = 342749 × 36601\n",
       "    obs: 'n_genes_by_counts', 'log1p_n_genes_by_counts', 'total_counts', 'log1p_total_counts', 'pct_counts_in_top_50_genes', 'pct_counts_in_top_100_genes', 'pct_counts_in_top_200_genes', 'pct_counts_in_top_500_genes', 'percent_mito', 'n_counts', 'percent_ribo', 'scrublet', 'batch', 'CD45_enrich', 'batch_num', 'cohort', 'pCR', 'RCB', 'cleared_nodes', 'treatment', 'patient_treatment', 'hormone_receptor', 'combined_tcr', 'umap1', 'umap2', 'leiden_50nbr_res1.2', 'celltype', 'global_clusters', 'bcell_leiden_nbr100_res0.6', 'tcell_leiden_nbr100_res0.6', 'myeloid_leiden_nbr30_res0.8', 'subcluster'\n",
       "    var: 'gene_ids', 'feature_types'\n",
       "    uns: 'bcell_leiden_nbr100_res0.6_colors', 'celltype_colors', 'global_clusters_colors', 'leiden_50nbr_res1.2_colors', 'myeloid_leiden_nbr30_res0.8_colors', 'subcluster_colors', 'tcell_leiden_nbr100_res0.6_colors'\n",
       "    obsm: 'X_bcell_umap', 'X_myeloid_umap', 'X_tcell_umap', 'X_umap'"
      ]
     },
     "execution_count": 3,
     "metadata": {},
     "output_type": "execute_result"
    }
   ],
   "source": [
    "#Load data\n",
    "entity = syn.get('syn54861463')\n",
    "adata = sc.read_h5ad(entity.path)\n",
    "\n",
    "adata"
   ]
  },
  {
   "cell_type": "code",
   "execution_count": 7,
   "id": "9c085f0a-833e-4f30-83ef-9f70ce124431",
   "metadata": {},
   "outputs": [],
   "source": [
    "pd.DataFrame({\n",
    "    'cohort': adata.obs[\"cohort\"],\n",
    "    'patient_treatment': adata.obs[\"patient_treatment\"],\n",
    "    'cell_type': adata.obs[\"celltype\"],\n",
    "    'cleared_nodes': adata.obs[\"cleared_nodes\"],\n",
    "    'hormone_receptor': adata.obs[\"hormone_receptor\"],\n",
    "    'pCR': adata.obs[\"pCR\"],\n",
    "    'RCB': adata.obs[\"RCB\"],\n",
    "    'treatment': adata.obs[\"treatment\"],\n",
    "    'combined_tcr': adata.obs[\"combined_tcr\"],\n",
    "    'umap1': adata.obs[\"umap1\"],\n",
    "    'umap2': adata.obs[\"umap2\"]\n",
    "    }\n",
    ").to_csv(\"shiao_h5ad_obs.csv\")"
   ]
  },
  {
   "cell_type": "markdown",
   "id": "e0af580e-fe51-46cc-95e4-e84eaacdfb1c",
   "metadata": {},
   "source": [
    "### Clinical Data"
   ]
  },
  {
   "cell_type": "code",
   "execution_count": 4,
   "id": "53914684-d3e4-4d6b-8155-2ce1f0b77f75",
   "metadata": {},
   "outputs": [
    {
     "data": {
      "text/html": [
       "<div>\n",
       "<style scoped>\n",
       "    .dataframe tbody tr th:only-of-type {\n",
       "        vertical-align: middle;\n",
       "    }\n",
       "\n",
       "    .dataframe tbody tr th {\n",
       "        vertical-align: top;\n",
       "    }\n",
       "\n",
       "    .dataframe thead th {\n",
       "        text-align: right;\n",
       "    }\n",
       "</style>\n",
       "<table border=\"1\" class=\"dataframe\">\n",
       "  <thead>\n",
       "    <tr style=\"text-align: right;\">\n",
       "      <th></th>\n",
       "      <th>cell_type</th>\n",
       "      <th>cohort</th>\n",
       "      <th>cleared_nodes</th>\n",
       "      <th>hormone_receptor</th>\n",
       "      <th>pCR</th>\n",
       "      <th>RCB</th>\n",
       "      <th>treatment</th>\n",
       "      <th>patient_treatment</th>\n",
       "    </tr>\n",
       "  </thead>\n",
       "  <tbody>\n",
       "    <tr>\n",
       "      <th>h01A_P_AAACCTGAGACAGACC</th>\n",
       "      <td>myeloid</td>\n",
       "      <td>Patient01</td>\n",
       "      <td>Y</td>\n",
       "      <td>TNBC</td>\n",
       "      <td>R</td>\n",
       "      <td>0</td>\n",
       "      <td>Base</td>\n",
       "      <td>Patient01_Base</td>\n",
       "    </tr>\n",
       "    <tr>\n",
       "      <th>h01A_P_AAACCTGAGATGTGTA</th>\n",
       "      <td>myeloid</td>\n",
       "      <td>Patient01</td>\n",
       "      <td>Y</td>\n",
       "      <td>TNBC</td>\n",
       "      <td>R</td>\n",
       "      <td>0</td>\n",
       "      <td>Base</td>\n",
       "      <td>Patient01_Base</td>\n",
       "    </tr>\n",
       "    <tr>\n",
       "      <th>h01A_P_AAACCTGAGCGCTTAT</th>\n",
       "      <td>myeloid</td>\n",
       "      <td>Patient01</td>\n",
       "      <td>Y</td>\n",
       "      <td>TNBC</td>\n",
       "      <td>R</td>\n",
       "      <td>0</td>\n",
       "      <td>Base</td>\n",
       "      <td>Patient01_Base</td>\n",
       "    </tr>\n",
       "    <tr>\n",
       "      <th>h01A_P_AAACCTGAGGCCCGTT</th>\n",
       "      <td>Bcell</td>\n",
       "      <td>Patient01</td>\n",
       "      <td>Y</td>\n",
       "      <td>TNBC</td>\n",
       "      <td>R</td>\n",
       "      <td>0</td>\n",
       "      <td>Base</td>\n",
       "      <td>Patient01_Base</td>\n",
       "    </tr>\n",
       "    <tr>\n",
       "      <th>h01A_P_AAACCTGAGGTTACCT</th>\n",
       "      <td>Tcell</td>\n",
       "      <td>Patient01</td>\n",
       "      <td>Y</td>\n",
       "      <td>TNBC</td>\n",
       "      <td>R</td>\n",
       "      <td>0</td>\n",
       "      <td>Base</td>\n",
       "      <td>Patient01_Base</td>\n",
       "    </tr>\n",
       "    <tr>\n",
       "      <th>...</th>\n",
       "      <td>...</td>\n",
       "      <td>...</td>\n",
       "      <td>...</td>\n",
       "      <td>...</td>\n",
       "      <td>...</td>\n",
       "      <td>...</td>\n",
       "      <td>...</td>\n",
       "      <td>...</td>\n",
       "    </tr>\n",
       "    <tr>\n",
       "      <th>h66C_P_TTCTACATCGCGTAGC</th>\n",
       "      <td>Tcell</td>\n",
       "      <td>Patient66</td>\n",
       "      <td>unknown</td>\n",
       "      <td>TNBC</td>\n",
       "      <td>R</td>\n",
       "      <td>unknown</td>\n",
       "      <td>RTPD1</td>\n",
       "      <td>Patient66_RTPD1</td>\n",
       "    </tr>\n",
       "    <tr>\n",
       "      <th>h66C_P_TTCTCCTAGGAATTAC</th>\n",
       "      <td>Bcell</td>\n",
       "      <td>Patient66</td>\n",
       "      <td>unknown</td>\n",
       "      <td>TNBC</td>\n",
       "      <td>R</td>\n",
       "      <td>unknown</td>\n",
       "      <td>RTPD1</td>\n",
       "      <td>Patient66_RTPD1</td>\n",
       "    </tr>\n",
       "    <tr>\n",
       "      <th>h66C_P_TTCTCCTAGTTAGGTA</th>\n",
       "      <td>Tcell</td>\n",
       "      <td>Patient66</td>\n",
       "      <td>unknown</td>\n",
       "      <td>TNBC</td>\n",
       "      <td>R</td>\n",
       "      <td>unknown</td>\n",
       "      <td>RTPD1</td>\n",
       "      <td>Patient66_RTPD1</td>\n",
       "    </tr>\n",
       "    <tr>\n",
       "      <th>h66C_P_TTGGAACAGAGCTATA</th>\n",
       "      <td>Tcell</td>\n",
       "      <td>Patient66</td>\n",
       "      <td>unknown</td>\n",
       "      <td>TNBC</td>\n",
       "      <td>R</td>\n",
       "      <td>unknown</td>\n",
       "      <td>RTPD1</td>\n",
       "      <td>Patient66_RTPD1</td>\n",
       "    </tr>\n",
       "    <tr>\n",
       "      <th>h66C_P_TTTGTCACACAGAGGT</th>\n",
       "      <td>Tcell</td>\n",
       "      <td>Patient66</td>\n",
       "      <td>unknown</td>\n",
       "      <td>TNBC</td>\n",
       "      <td>R</td>\n",
       "      <td>unknown</td>\n",
       "      <td>RTPD1</td>\n",
       "      <td>Patient66_RTPD1</td>\n",
       "    </tr>\n",
       "  </tbody>\n",
       "</table>\n",
       "<p>342749 rows × 8 columns</p>\n",
       "</div>"
      ],
      "text/plain": [
       "                        cell_type     cohort cleared_nodes hormone_receptor  \\\n",
       "h01A_P_AAACCTGAGACAGACC   myeloid  Patient01             Y             TNBC   \n",
       "h01A_P_AAACCTGAGATGTGTA   myeloid  Patient01             Y             TNBC   \n",
       "h01A_P_AAACCTGAGCGCTTAT   myeloid  Patient01             Y             TNBC   \n",
       "h01A_P_AAACCTGAGGCCCGTT     Bcell  Patient01             Y             TNBC   \n",
       "h01A_P_AAACCTGAGGTTACCT     Tcell  Patient01             Y             TNBC   \n",
       "...                           ...        ...           ...              ...   \n",
       "h66C_P_TTCTACATCGCGTAGC     Tcell  Patient66       unknown             TNBC   \n",
       "h66C_P_TTCTCCTAGGAATTAC     Bcell  Patient66       unknown             TNBC   \n",
       "h66C_P_TTCTCCTAGTTAGGTA     Tcell  Patient66       unknown             TNBC   \n",
       "h66C_P_TTGGAACAGAGCTATA     Tcell  Patient66       unknown             TNBC   \n",
       "h66C_P_TTTGTCACACAGAGGT     Tcell  Patient66       unknown             TNBC   \n",
       "\n",
       "                        pCR      RCB treatment patient_treatment  \n",
       "h01A_P_AAACCTGAGACAGACC   R        0      Base    Patient01_Base  \n",
       "h01A_P_AAACCTGAGATGTGTA   R        0      Base    Patient01_Base  \n",
       "h01A_P_AAACCTGAGCGCTTAT   R        0      Base    Patient01_Base  \n",
       "h01A_P_AAACCTGAGGCCCGTT   R        0      Base    Patient01_Base  \n",
       "h01A_P_AAACCTGAGGTTACCT   R        0      Base    Patient01_Base  \n",
       "...                      ..      ...       ...               ...  \n",
       "h66C_P_TTCTACATCGCGTAGC   R  unknown     RTPD1   Patient66_RTPD1  \n",
       "h66C_P_TTCTCCTAGGAATTAC   R  unknown     RTPD1   Patient66_RTPD1  \n",
       "h66C_P_TTCTCCTAGTTAGGTA   R  unknown     RTPD1   Patient66_RTPD1  \n",
       "h66C_P_TTGGAACAGAGCTATA   R  unknown     RTPD1   Patient66_RTPD1  \n",
       "h66C_P_TTTGTCACACAGAGGT   R  unknown     RTPD1   Patient66_RTPD1  \n",
       "\n",
       "[342749 rows x 8 columns]"
      ]
     },
     "execution_count": 4,
     "metadata": {},
     "output_type": "execute_result"
    }
   ],
   "source": [
    "# Some annotation in obs seem to be clinical annotation\n",
    "pd.DataFrame({\n",
    "        'cell_type': adata.obs[\"celltype\"],\n",
    "        'cohort': adata.obs[\"cohort\"],\n",
    "        'cleared_nodes': adata.obs[\"cleared_nodes\"],\n",
    "        'hormone_receptor': adata.obs[\"hormone_receptor\"],\n",
    "        'pCR': adata.obs[\"pCR\"],\n",
    "        'RCB': adata.obs[\"RCB\"],\n",
    "        'treatment': adata.obs[\"treatment\"],\n",
    "        'patient_treatment': adata.obs[\"patient_treatment\"],\n",
    "    }\n",
    ")"
   ]
  },
  {
   "cell_type": "code",
   "execution_count": 5,
   "id": "4cb4d333-30b2-4626-935f-1a90155539b7",
   "metadata": {},
   "outputs": [
    {
     "data": {
      "text/plain": [
       "['R', 'NR']\n",
       "Categories (3, object): ['NR', 'R', 'unknown']"
      ]
     },
     "execution_count": 5,
     "metadata": {},
     "output_type": "execute_result"
    }
   ],
   "source": [
    "#Inspect more closely unique values for each column\n",
    "pd.unique(adata.obs[\"pCR\"])"
   ]
  },
  {
   "cell_type": "markdown",
   "id": "118d79d9-7037-44a6-94a2-0964b2451020",
   "metadata": {},
   "source": [
    "### UMAP coordinates\n",
    "\n",
    "They are stored in the obs"
   ]
  },
  {
   "cell_type": "code",
   "execution_count": 6,
   "id": "95c0e6b0-6b0a-4f16-be75-012125732692",
   "metadata": {},
   "outputs": [
    {
     "data": {
      "text/html": [
       "<div>\n",
       "<style scoped>\n",
       "    .dataframe tbody tr th:only-of-type {\n",
       "        vertical-align: middle;\n",
       "    }\n",
       "\n",
       "    .dataframe tbody tr th {\n",
       "        vertical-align: top;\n",
       "    }\n",
       "\n",
       "    .dataframe thead th {\n",
       "        text-align: right;\n",
       "    }\n",
       "</style>\n",
       "<table border=\"1\" class=\"dataframe\">\n",
       "  <thead>\n",
       "    <tr style=\"text-align: right;\">\n",
       "      <th></th>\n",
       "      <th>umap_1</th>\n",
       "      <th>umap_2</th>\n",
       "    </tr>\n",
       "  </thead>\n",
       "  <tbody>\n",
       "    <tr>\n",
       "      <th>h01A_P_AAACCTGAGACAGACC</th>\n",
       "      <td>12.238769</td>\n",
       "      <td>-7.196668</td>\n",
       "    </tr>\n",
       "    <tr>\n",
       "      <th>h01A_P_AAACCTGAGATGTGTA</th>\n",
       "      <td>5.326361</td>\n",
       "      <td>-0.320588</td>\n",
       "    </tr>\n",
       "    <tr>\n",
       "      <th>h01A_P_AAACCTGAGCGCTTAT</th>\n",
       "      <td>14.234969</td>\n",
       "      <td>0.425975</td>\n",
       "    </tr>\n",
       "    <tr>\n",
       "      <th>h01A_P_AAACCTGAGGCCCGTT</th>\n",
       "      <td>1.327492</td>\n",
       "      <td>15.696615</td>\n",
       "    </tr>\n",
       "    <tr>\n",
       "      <th>h01A_P_AAACCTGAGGTTACCT</th>\n",
       "      <td>-9.247342</td>\n",
       "      <td>-2.434366</td>\n",
       "    </tr>\n",
       "    <tr>\n",
       "      <th>...</th>\n",
       "      <td>...</td>\n",
       "      <td>...</td>\n",
       "    </tr>\n",
       "    <tr>\n",
       "      <th>h66C_P_TTCTACATCGCGTAGC</th>\n",
       "      <td>-9.126049</td>\n",
       "      <td>1.260052</td>\n",
       "    </tr>\n",
       "    <tr>\n",
       "      <th>h66C_P_TTCTCCTAGGAATTAC</th>\n",
       "      <td>2.544263</td>\n",
       "      <td>2.465940</td>\n",
       "    </tr>\n",
       "    <tr>\n",
       "      <th>h66C_P_TTCTCCTAGTTAGGTA</th>\n",
       "      <td>-3.930299</td>\n",
       "      <td>0.801832</td>\n",
       "    </tr>\n",
       "    <tr>\n",
       "      <th>h66C_P_TTGGAACAGAGCTATA</th>\n",
       "      <td>-5.860061</td>\n",
       "      <td>5.020553</td>\n",
       "    </tr>\n",
       "    <tr>\n",
       "      <th>h66C_P_TTTGTCACACAGAGGT</th>\n",
       "      <td>-4.265197</td>\n",
       "      <td>0.767057</td>\n",
       "    </tr>\n",
       "  </tbody>\n",
       "</table>\n",
       "<p>342749 rows × 2 columns</p>\n",
       "</div>"
      ],
      "text/plain": [
       "                            umap_1     umap_2\n",
       "h01A_P_AAACCTGAGACAGACC  12.238769  -7.196668\n",
       "h01A_P_AAACCTGAGATGTGTA   5.326361  -0.320588\n",
       "h01A_P_AAACCTGAGCGCTTAT  14.234969   0.425975\n",
       "h01A_P_AAACCTGAGGCCCGTT   1.327492  15.696615\n",
       "h01A_P_AAACCTGAGGTTACCT  -9.247342  -2.434366\n",
       "...                            ...        ...\n",
       "h66C_P_TTCTACATCGCGTAGC  -9.126049   1.260052\n",
       "h66C_P_TTCTCCTAGGAATTAC   2.544263   2.465940\n",
       "h66C_P_TTCTCCTAGTTAGGTA  -3.930299   0.801832\n",
       "h66C_P_TTGGAACAGAGCTATA  -5.860061   5.020553\n",
       "h66C_P_TTTGTCACACAGAGGT  -4.265197   0.767057\n",
       "\n",
       "[342749 rows x 2 columns]"
      ]
     },
     "execution_count": 6,
     "metadata": {},
     "output_type": "execute_result"
    }
   ],
   "source": [
    "pd.DataFrame({\n",
    "        'umap_1': adata.obs[\"umap1\"],\n",
    "        'umap_2': adata.obs[\"umap2\"]\n",
    "    }\n",
    ")"
   ]
  },
  {
   "cell_type": "markdown",
   "id": "b412600e-e708-4ba5-bcad-8da3e94dba51",
   "metadata": {},
   "source": [
    "### Counts"
   ]
  },
  {
   "cell_type": "code",
   "execution_count": 7,
   "id": "4c7502b6",
   "metadata": {},
   "outputs": [
    {
     "data": {
      "text/html": [
       "<div>\n",
       "<style scoped>\n",
       "    .dataframe tbody tr th:only-of-type {\n",
       "        vertical-align: middle;\n",
       "    }\n",
       "\n",
       "    .dataframe tbody tr th {\n",
       "        vertical-align: top;\n",
       "    }\n",
       "\n",
       "    .dataframe thead th {\n",
       "        text-align: right;\n",
       "    }\n",
       "</style>\n",
       "<table border=\"1\" class=\"dataframe\">\n",
       "  <thead>\n",
       "    <tr style=\"text-align: right;\">\n",
       "      <th></th>\n",
       "      <th>MIR1302-2HG</th>\n",
       "      <th>FAM138A</th>\n",
       "      <th>OR4F5</th>\n",
       "      <th>AL627309.1</th>\n",
       "      <th>AL627309.3</th>\n",
       "      <th>AL627309.2</th>\n",
       "      <th>AL627309.5</th>\n",
       "      <th>AL627309.4</th>\n",
       "      <th>AP006222.2</th>\n",
       "      <th>AL732372.1</th>\n",
       "      <th>...</th>\n",
       "      <th>AC133551.1</th>\n",
       "      <th>AC136612.1</th>\n",
       "      <th>AC136616.1</th>\n",
       "      <th>AC136616.3</th>\n",
       "      <th>AC136616.2</th>\n",
       "      <th>AC141272.1</th>\n",
       "      <th>AC023491.2</th>\n",
       "      <th>AC007325.1</th>\n",
       "      <th>AC007325.4</th>\n",
       "      <th>AC007325.2</th>\n",
       "    </tr>\n",
       "  </thead>\n",
       "  <tbody>\n",
       "    <tr>\n",
       "      <th>h01A_P_AAACCTGAGACAGACC</th>\n",
       "      <td>0.0</td>\n",
       "      <td>0.0</td>\n",
       "      <td>0.0</td>\n",
       "      <td>0.0</td>\n",
       "      <td>0.0</td>\n",
       "      <td>0.0</td>\n",
       "      <td>0.0</td>\n",
       "      <td>0.0</td>\n",
       "      <td>0.0</td>\n",
       "      <td>0.0</td>\n",
       "      <td>...</td>\n",
       "      <td>0.0</td>\n",
       "      <td>0.0</td>\n",
       "      <td>0.0</td>\n",
       "      <td>0.0</td>\n",
       "      <td>0.0</td>\n",
       "      <td>0.0</td>\n",
       "      <td>0.0</td>\n",
       "      <td>0.0</td>\n",
       "      <td>0.0</td>\n",
       "      <td>0.0</td>\n",
       "    </tr>\n",
       "    <tr>\n",
       "      <th>h01A_P_AAACCTGAGATGTGTA</th>\n",
       "      <td>0.0</td>\n",
       "      <td>0.0</td>\n",
       "      <td>0.0</td>\n",
       "      <td>0.0</td>\n",
       "      <td>0.0</td>\n",
       "      <td>0.0</td>\n",
       "      <td>0.0</td>\n",
       "      <td>0.0</td>\n",
       "      <td>0.0</td>\n",
       "      <td>0.0</td>\n",
       "      <td>...</td>\n",
       "      <td>0.0</td>\n",
       "      <td>0.0</td>\n",
       "      <td>0.0</td>\n",
       "      <td>0.0</td>\n",
       "      <td>0.0</td>\n",
       "      <td>0.0</td>\n",
       "      <td>0.0</td>\n",
       "      <td>0.0</td>\n",
       "      <td>0.0</td>\n",
       "      <td>0.0</td>\n",
       "    </tr>\n",
       "    <tr>\n",
       "      <th>h01A_P_AAACCTGAGCGCTTAT</th>\n",
       "      <td>0.0</td>\n",
       "      <td>0.0</td>\n",
       "      <td>0.0</td>\n",
       "      <td>0.0</td>\n",
       "      <td>0.0</td>\n",
       "      <td>0.0</td>\n",
       "      <td>0.0</td>\n",
       "      <td>0.0</td>\n",
       "      <td>0.0</td>\n",
       "      <td>0.0</td>\n",
       "      <td>...</td>\n",
       "      <td>0.0</td>\n",
       "      <td>0.0</td>\n",
       "      <td>0.0</td>\n",
       "      <td>0.0</td>\n",
       "      <td>0.0</td>\n",
       "      <td>0.0</td>\n",
       "      <td>0.0</td>\n",
       "      <td>0.0</td>\n",
       "      <td>0.0</td>\n",
       "      <td>0.0</td>\n",
       "    </tr>\n",
       "    <tr>\n",
       "      <th>h01A_P_AAACCTGAGGCCCGTT</th>\n",
       "      <td>0.0</td>\n",
       "      <td>0.0</td>\n",
       "      <td>0.0</td>\n",
       "      <td>0.0</td>\n",
       "      <td>0.0</td>\n",
       "      <td>0.0</td>\n",
       "      <td>0.0</td>\n",
       "      <td>0.0</td>\n",
       "      <td>0.0</td>\n",
       "      <td>0.0</td>\n",
       "      <td>...</td>\n",
       "      <td>0.0</td>\n",
       "      <td>0.0</td>\n",
       "      <td>0.0</td>\n",
       "      <td>0.0</td>\n",
       "      <td>0.0</td>\n",
       "      <td>0.0</td>\n",
       "      <td>0.0</td>\n",
       "      <td>0.0</td>\n",
       "      <td>0.0</td>\n",
       "      <td>0.0</td>\n",
       "    </tr>\n",
       "    <tr>\n",
       "      <th>h01A_P_AAACCTGAGGTTACCT</th>\n",
       "      <td>0.0</td>\n",
       "      <td>0.0</td>\n",
       "      <td>0.0</td>\n",
       "      <td>0.0</td>\n",
       "      <td>0.0</td>\n",
       "      <td>0.0</td>\n",
       "      <td>0.0</td>\n",
       "      <td>0.0</td>\n",
       "      <td>0.0</td>\n",
       "      <td>0.0</td>\n",
       "      <td>...</td>\n",
       "      <td>0.0</td>\n",
       "      <td>0.0</td>\n",
       "      <td>0.0</td>\n",
       "      <td>0.0</td>\n",
       "      <td>0.0</td>\n",
       "      <td>0.0</td>\n",
       "      <td>0.0</td>\n",
       "      <td>0.0</td>\n",
       "      <td>0.0</td>\n",
       "      <td>0.0</td>\n",
       "    </tr>\n",
       "    <tr>\n",
       "      <th>...</th>\n",
       "      <td>...</td>\n",
       "      <td>...</td>\n",
       "      <td>...</td>\n",
       "      <td>...</td>\n",
       "      <td>...</td>\n",
       "      <td>...</td>\n",
       "      <td>...</td>\n",
       "      <td>...</td>\n",
       "      <td>...</td>\n",
       "      <td>...</td>\n",
       "      <td>...</td>\n",
       "      <td>...</td>\n",
       "      <td>...</td>\n",
       "      <td>...</td>\n",
       "      <td>...</td>\n",
       "      <td>...</td>\n",
       "      <td>...</td>\n",
       "      <td>...</td>\n",
       "      <td>...</td>\n",
       "      <td>...</td>\n",
       "      <td>...</td>\n",
       "    </tr>\n",
       "    <tr>\n",
       "      <th>h66C_P_TTCTACATCGCGTAGC</th>\n",
       "      <td>0.0</td>\n",
       "      <td>0.0</td>\n",
       "      <td>0.0</td>\n",
       "      <td>0.0</td>\n",
       "      <td>0.0</td>\n",
       "      <td>0.0</td>\n",
       "      <td>0.0</td>\n",
       "      <td>0.0</td>\n",
       "      <td>0.0</td>\n",
       "      <td>0.0</td>\n",
       "      <td>...</td>\n",
       "      <td>0.0</td>\n",
       "      <td>0.0</td>\n",
       "      <td>0.0</td>\n",
       "      <td>0.0</td>\n",
       "      <td>0.0</td>\n",
       "      <td>0.0</td>\n",
       "      <td>0.0</td>\n",
       "      <td>0.0</td>\n",
       "      <td>0.0</td>\n",
       "      <td>0.0</td>\n",
       "    </tr>\n",
       "    <tr>\n",
       "      <th>h66C_P_TTCTCCTAGGAATTAC</th>\n",
       "      <td>0.0</td>\n",
       "      <td>0.0</td>\n",
       "      <td>0.0</td>\n",
       "      <td>0.0</td>\n",
       "      <td>0.0</td>\n",
       "      <td>0.0</td>\n",
       "      <td>0.0</td>\n",
       "      <td>0.0</td>\n",
       "      <td>0.0</td>\n",
       "      <td>0.0</td>\n",
       "      <td>...</td>\n",
       "      <td>0.0</td>\n",
       "      <td>0.0</td>\n",
       "      <td>0.0</td>\n",
       "      <td>0.0</td>\n",
       "      <td>0.0</td>\n",
       "      <td>0.0</td>\n",
       "      <td>0.0</td>\n",
       "      <td>0.0</td>\n",
       "      <td>0.0</td>\n",
       "      <td>0.0</td>\n",
       "    </tr>\n",
       "    <tr>\n",
       "      <th>h66C_P_TTCTCCTAGTTAGGTA</th>\n",
       "      <td>0.0</td>\n",
       "      <td>0.0</td>\n",
       "      <td>0.0</td>\n",
       "      <td>0.0</td>\n",
       "      <td>0.0</td>\n",
       "      <td>0.0</td>\n",
       "      <td>0.0</td>\n",
       "      <td>0.0</td>\n",
       "      <td>0.0</td>\n",
       "      <td>0.0</td>\n",
       "      <td>...</td>\n",
       "      <td>0.0</td>\n",
       "      <td>0.0</td>\n",
       "      <td>0.0</td>\n",
       "      <td>0.0</td>\n",
       "      <td>0.0</td>\n",
       "      <td>0.0</td>\n",
       "      <td>0.0</td>\n",
       "      <td>0.0</td>\n",
       "      <td>0.0</td>\n",
       "      <td>0.0</td>\n",
       "    </tr>\n",
       "    <tr>\n",
       "      <th>h66C_P_TTGGAACAGAGCTATA</th>\n",
       "      <td>0.0</td>\n",
       "      <td>0.0</td>\n",
       "      <td>0.0</td>\n",
       "      <td>0.0</td>\n",
       "      <td>0.0</td>\n",
       "      <td>0.0</td>\n",
       "      <td>0.0</td>\n",
       "      <td>0.0</td>\n",
       "      <td>0.0</td>\n",
       "      <td>0.0</td>\n",
       "      <td>...</td>\n",
       "      <td>0.0</td>\n",
       "      <td>0.0</td>\n",
       "      <td>0.0</td>\n",
       "      <td>0.0</td>\n",
       "      <td>0.0</td>\n",
       "      <td>0.0</td>\n",
       "      <td>0.0</td>\n",
       "      <td>0.0</td>\n",
       "      <td>0.0</td>\n",
       "      <td>0.0</td>\n",
       "    </tr>\n",
       "    <tr>\n",
       "      <th>h66C_P_TTTGTCACACAGAGGT</th>\n",
       "      <td>0.0</td>\n",
       "      <td>0.0</td>\n",
       "      <td>0.0</td>\n",
       "      <td>0.0</td>\n",
       "      <td>0.0</td>\n",
       "      <td>0.0</td>\n",
       "      <td>0.0</td>\n",
       "      <td>0.0</td>\n",
       "      <td>0.0</td>\n",
       "      <td>0.0</td>\n",
       "      <td>...</td>\n",
       "      <td>0.0</td>\n",
       "      <td>0.0</td>\n",
       "      <td>0.0</td>\n",
       "      <td>0.0</td>\n",
       "      <td>0.0</td>\n",
       "      <td>0.0</td>\n",
       "      <td>0.0</td>\n",
       "      <td>0.0</td>\n",
       "      <td>0.0</td>\n",
       "      <td>0.0</td>\n",
       "    </tr>\n",
       "  </tbody>\n",
       "</table>\n",
       "<p>342749 rows × 36601 columns</p>\n",
       "</div>"
      ],
      "text/plain": [
       "                         MIR1302-2HG  FAM138A  OR4F5  AL627309.1  AL627309.3  \\\n",
       "h01A_P_AAACCTGAGACAGACC          0.0      0.0    0.0         0.0         0.0   \n",
       "h01A_P_AAACCTGAGATGTGTA          0.0      0.0    0.0         0.0         0.0   \n",
       "h01A_P_AAACCTGAGCGCTTAT          0.0      0.0    0.0         0.0         0.0   \n",
       "h01A_P_AAACCTGAGGCCCGTT          0.0      0.0    0.0         0.0         0.0   \n",
       "h01A_P_AAACCTGAGGTTACCT          0.0      0.0    0.0         0.0         0.0   \n",
       "...                              ...      ...    ...         ...         ...   \n",
       "h66C_P_TTCTACATCGCGTAGC          0.0      0.0    0.0         0.0         0.0   \n",
       "h66C_P_TTCTCCTAGGAATTAC          0.0      0.0    0.0         0.0         0.0   \n",
       "h66C_P_TTCTCCTAGTTAGGTA          0.0      0.0    0.0         0.0         0.0   \n",
       "h66C_P_TTGGAACAGAGCTATA          0.0      0.0    0.0         0.0         0.0   \n",
       "h66C_P_TTTGTCACACAGAGGT          0.0      0.0    0.0         0.0         0.0   \n",
       "\n",
       "                         AL627309.2  AL627309.5  AL627309.4  AP006222.2  \\\n",
       "h01A_P_AAACCTGAGACAGACC         0.0         0.0         0.0         0.0   \n",
       "h01A_P_AAACCTGAGATGTGTA         0.0         0.0         0.0         0.0   \n",
       "h01A_P_AAACCTGAGCGCTTAT         0.0         0.0         0.0         0.0   \n",
       "h01A_P_AAACCTGAGGCCCGTT         0.0         0.0         0.0         0.0   \n",
       "h01A_P_AAACCTGAGGTTACCT         0.0         0.0         0.0         0.0   \n",
       "...                             ...         ...         ...         ...   \n",
       "h66C_P_TTCTACATCGCGTAGC         0.0         0.0         0.0         0.0   \n",
       "h66C_P_TTCTCCTAGGAATTAC         0.0         0.0         0.0         0.0   \n",
       "h66C_P_TTCTCCTAGTTAGGTA         0.0         0.0         0.0         0.0   \n",
       "h66C_P_TTGGAACAGAGCTATA         0.0         0.0         0.0         0.0   \n",
       "h66C_P_TTTGTCACACAGAGGT         0.0         0.0         0.0         0.0   \n",
       "\n",
       "                         AL732372.1  ...  AC133551.1  AC136612.1  AC136616.1  \\\n",
       "h01A_P_AAACCTGAGACAGACC         0.0  ...         0.0         0.0         0.0   \n",
       "h01A_P_AAACCTGAGATGTGTA         0.0  ...         0.0         0.0         0.0   \n",
       "h01A_P_AAACCTGAGCGCTTAT         0.0  ...         0.0         0.0         0.0   \n",
       "h01A_P_AAACCTGAGGCCCGTT         0.0  ...         0.0         0.0         0.0   \n",
       "h01A_P_AAACCTGAGGTTACCT         0.0  ...         0.0         0.0         0.0   \n",
       "...                             ...  ...         ...         ...         ...   \n",
       "h66C_P_TTCTACATCGCGTAGC         0.0  ...         0.0         0.0         0.0   \n",
       "h66C_P_TTCTCCTAGGAATTAC         0.0  ...         0.0         0.0         0.0   \n",
       "h66C_P_TTCTCCTAGTTAGGTA         0.0  ...         0.0         0.0         0.0   \n",
       "h66C_P_TTGGAACAGAGCTATA         0.0  ...         0.0         0.0         0.0   \n",
       "h66C_P_TTTGTCACACAGAGGT         0.0  ...         0.0         0.0         0.0   \n",
       "\n",
       "                         AC136616.3  AC136616.2  AC141272.1  AC023491.2  \\\n",
       "h01A_P_AAACCTGAGACAGACC         0.0         0.0         0.0         0.0   \n",
       "h01A_P_AAACCTGAGATGTGTA         0.0         0.0         0.0         0.0   \n",
       "h01A_P_AAACCTGAGCGCTTAT         0.0         0.0         0.0         0.0   \n",
       "h01A_P_AAACCTGAGGCCCGTT         0.0         0.0         0.0         0.0   \n",
       "h01A_P_AAACCTGAGGTTACCT         0.0         0.0         0.0         0.0   \n",
       "...                             ...         ...         ...         ...   \n",
       "h66C_P_TTCTACATCGCGTAGC         0.0         0.0         0.0         0.0   \n",
       "h66C_P_TTCTCCTAGGAATTAC         0.0         0.0         0.0         0.0   \n",
       "h66C_P_TTCTCCTAGTTAGGTA         0.0         0.0         0.0         0.0   \n",
       "h66C_P_TTGGAACAGAGCTATA         0.0         0.0         0.0         0.0   \n",
       "h66C_P_TTTGTCACACAGAGGT         0.0         0.0         0.0         0.0   \n",
       "\n",
       "                         AC007325.1  AC007325.4  AC007325.2  \n",
       "h01A_P_AAACCTGAGACAGACC         0.0         0.0         0.0  \n",
       "h01A_P_AAACCTGAGATGTGTA         0.0         0.0         0.0  \n",
       "h01A_P_AAACCTGAGCGCTTAT         0.0         0.0         0.0  \n",
       "h01A_P_AAACCTGAGGCCCGTT         0.0         0.0         0.0  \n",
       "h01A_P_AAACCTGAGGTTACCT         0.0         0.0         0.0  \n",
       "...                             ...         ...         ...  \n",
       "h66C_P_TTCTACATCGCGTAGC         0.0         0.0         0.0  \n",
       "h66C_P_TTCTCCTAGGAATTAC         0.0         0.0         0.0  \n",
       "h66C_P_TTCTCCTAGTTAGGTA         0.0         0.0         0.0  \n",
       "h66C_P_TTGGAACAGAGCTATA         0.0         0.0         0.0  \n",
       "h66C_P_TTTGTCACACAGAGGT         0.0         0.0         0.0  \n",
       "\n",
       "[342749 rows x 36601 columns]"
      ]
     },
     "execution_count": 7,
     "metadata": {},
     "output_type": "execute_result"
    }
   ],
   "source": [
    "#let's take a look at the raw counts\n",
    "adata.layers['counts'] = adata.X\n",
    "adata.to_df(layer = \"counts\")"
   ]
  },
  {
   "cell_type": "markdown",
   "id": "4f18bde0",
   "metadata": {},
   "source": [
    "# QC"
   ]
  },
  {
   "cell_type": "markdown",
   "id": "3abd2dd1",
   "metadata": {},
   "source": [
    "This file already has QC metrics in the obs, so we just need to plot them to get a sense if any additional filtering is needed.\n",
    "\n",
    "According to the study manuscript, the following steps were performed:\n",
    "\n",
    "*Doublet cells were identified using Scrublet61 (version 0.2.1) from the filtered feature bar- code matrices produced by Cellranger. Scrublet was run using the 10% highest variable genes, identified using the Scanpy scan- py.pp.highly_variable_genes function (scanpy version 1.5.1), with an expected doublet rate of 10%. Cells were scored as candidate doublets by Scrublet and removed if their doublet score exceeded 0.25. In addition, the top 1% of cells by UMI count per biopsy were filtered as presumed doublets. Remaining cells were finally filtered to have less than 10% of their UMI’s mapped to mitochondrial genes and to express greater than 100 genes.*"
   ]
  },
  {
   "cell_type": "code",
   "execution_count": 8,
   "id": "7f9238b4-8c68-40cf-afa5-e0042a0faabe",
   "metadata": {},
   "outputs": [
    {
     "data": {
      "text/plain": [
       "count     342749\n",
       "unique         1\n",
       "top        False\n",
       "freq      342749\n",
       "Name: scrublet, dtype: object"
      ]
     },
     "execution_count": 8,
     "metadata": {},
     "output_type": "execute_result"
    }
   ],
   "source": [
    "#checking the first filtering criteria\n",
    "pd.DataFrame.describe(adata.obs['scrublet'])"
   ]
  },
  {
   "cell_type": "markdown",
   "id": "3f427adf-ffa1-4f6c-953c-2e6a7dfc54c7",
   "metadata": {},
   "source": [
    "This metric appears to be a True/False flag, and only False was selected "
   ]
  },
  {
   "cell_type": "code",
   "execution_count": 9,
   "id": "bdc46eca",
   "metadata": {},
   "outputs": [
    {
     "data": {
      "text/plain": [
       "Text(0, 0.5, 'N cells')"
      ]
     },
     "execution_count": 9,
     "metadata": {},
     "output_type": "execute_result"
    },
    {
     "data": {
      "image/png": "[encoded data removed]",
      "text/plain": [
       "<Figure size 640x480 with 1 Axes>"
      ]
     },
     "metadata": {},
     "output_type": "display_data"
    }
   ],
   "source": [
    "plt.hist(adata.obs['percent_mito'])\n",
    "plt.xlabel('% mito')\n",
    "plt.ylabel('N cells')"
   ]
  },
  {
   "cell_type": "code",
   "execution_count": 10,
   "id": "aeb232b0",
   "metadata": {},
   "outputs": [
    {
     "data": {
      "text/plain": [
       "count    342749.000000\n",
       "mean          0.036326\n",
       "std           0.020382\n",
       "min           0.000000\n",
       "25%           0.021826\n",
       "50%           0.033920\n",
       "75%           0.048350\n",
       "max           0.099983\n",
       "Name: percent_mito, dtype: float64"
      ]
     },
     "execution_count": 10,
     "metadata": {},
     "output_type": "execute_result"
    }
   ],
   "source": [
    "pd.DataFrame.describe(adata.obs['percent_mito'])"
   ]
  },
  {
   "cell_type": "markdown",
   "id": "73015a9a",
   "metadata": {},
   "source": [
    "We can see from this data that the authors already filtered cells with mito_frac > 10% (as mentioned in the manuscript)"
   ]
  },
  {
   "cell_type": "code",
   "execution_count": 11,
   "id": "10557319",
   "metadata": {},
   "outputs": [
    {
     "data": {
      "text/plain": [
       "<matplotlib.lines.Line2D at 0x12f310610>"
      ]
     },
     "execution_count": 11,
     "metadata": {},
     "output_type": "execute_result"
    },
    {
     "data": {
      "image/png": "[encoded data removed]",
      "text/plain": [
       "<Figure size 640x480 with 1 Axes>"
      ]
     },
     "metadata": {},
     "output_type": "display_data"
    }
   ],
   "source": [
    "#plot histogram of number of unique genes by cells\n",
    "plt.hist(adata.obs['n_genes_by_counts'], bins=100)\n",
    "plt.xlabel('N genes')\n",
    "plt.ylabel('N cells')\n",
    "plt.axvline(500, color='red')\n",
    "#plt.xlim(0,4e3)"
   ]
  },
  {
   "cell_type": "code",
   "execution_count": 12,
   "id": "b4302fff",
   "metadata": {},
   "outputs": [
    {
     "data": {
      "text/plain": [
       "count    342749.000000\n",
       "mean       1438.869137\n",
       "std         934.276157\n",
       "min         101.000000\n",
       "25%         763.000000\n",
       "50%        1171.000000\n",
       "75%        1916.000000\n",
       "max        7639.000000\n",
       "Name: n_genes_by_counts, dtype: float64"
      ]
     },
     "execution_count": 12,
     "metadata": {},
     "output_type": "execute_result"
    }
   ],
   "source": [
    "pd.DataFrame.describe(adata.obs['n_genes_by_counts'])"
   ]
  },
  {
   "cell_type": "markdown",
   "id": "26eaae49",
   "metadata": {},
   "source": [
    "From this plot, we can see that the filter of >100 genes per count mentioned in the manuscript was applied."
   ]
  },
  {
   "cell_type": "markdown",
   "id": "fa614ccd",
   "metadata": {},
   "source": [
    "#### So, it appears that we already have a file with data that went through pre-processing. No further filtering will be made to the original file."
   ]
  },
  {
   "cell_type": "markdown",
   "id": "d02d6839",
   "metadata": {},
   "source": [
    "# Formatting to run pseudobulk"
   ]
  },
  {
   "cell_type": "code",
   "execution_count": 13,
   "id": "52604743-3429-4406-aea6-8ff583b41c19",
   "metadata": {},
   "outputs": [],
   "source": [
    "#do we have normalized counts?\n",
    "\n",
    "# save raw counts as a layer\n",
    "adata.layers['counts'] = adata.X\n",
    "\n",
    "#pd.DataFrame.describe(adata.to_df(layer = \"counts\"))"
   ]
  },
  {
   "cell_type": "code",
   "execution_count": 14,
   "id": "14ae77d0",
   "metadata": {},
   "outputs": [],
   "source": [
    "# Normalize and log-transform\n",
    "sc.pp.normalize_total(adata, target_sum=1e4)\n",
    "sc.pp.log1p(adata)\n",
    "adata.layers['normalized'] = adata.X\n"
   ]
  },
  {
   "cell_type": "code",
   "execution_count": 15,
   "id": "860c6f86",
   "metadata": {
    "scrolled": true
   },
   "outputs": [
    {
     "data": {
      "text/plain": [
       "AnnData object with n_obs × n_vars = 342749 × 36601\n",
       "    obs: 'n_genes_by_counts', 'log1p_n_genes_by_counts', 'total_counts', 'log1p_total_counts', 'pct_counts_in_top_50_genes', 'pct_counts_in_top_100_genes', 'pct_counts_in_top_200_genes', 'pct_counts_in_top_500_genes', 'percent_mito', 'n_counts', 'percent_ribo', 'scrublet', 'batch', 'CD45_enrich', 'batch_num', 'cohort', 'pCR', 'RCB', 'cleared_nodes', 'treatment', 'patient_treatment', 'hormone_receptor', 'combined_tcr', 'umap1', 'umap2', 'leiden_50nbr_res1.2', 'celltype', 'global_clusters', 'bcell_leiden_nbr100_res0.6', 'tcell_leiden_nbr100_res0.6', 'myeloid_leiden_nbr30_res0.8', 'subcluster'\n",
       "    var: 'gene_ids', 'feature_types'\n",
       "    uns: 'bcell_leiden_nbr100_res0.6_colors', 'celltype_colors', 'global_clusters_colors', 'leiden_50nbr_res1.2_colors', 'myeloid_leiden_nbr30_res0.8_colors', 'subcluster_colors', 'tcell_leiden_nbr100_res0.6_colors', 'log1p'\n",
       "    obsm: 'X_bcell_umap', 'X_myeloid_umap', 'X_tcell_umap', 'X_umap'\n",
       "    layers: 'counts', 'normalized'"
      ]
     },
     "execution_count": 15,
     "metadata": {},
     "output_type": "execute_result"
    }
   ],
   "source": [
    "adata"
   ]
  },
  {
   "cell_type": "code",
   "execution_count": 20,
   "id": "ebe88f3b",
   "metadata": {},
   "outputs": [
    {
     "name": "stdout",
     "output_type": "stream",
     "text": [
      "\n",
      "##################################################\n",
      " Uploading file to Synapse storage \n",
      "##################################################\n",
      "\n"
     ]
    }
   ],
   "source": [
    "#adata.write('shiao_iatlas.h5ad')\n",
    "file_entity = synapseclient.File('shiao_iatlas.h5ad', 'syn54859246')\n",
    "file_entity = syn.store(file_entity)"
   ]
  }
 ],
 "metadata": {
  "kernelspec": {
   "display_name": "Python 3 (ipykernel)",
   "language": "python",
   "name": "python3"
  },
  "language_info": {
   "codemirror_mode": {
    "name": "ipython",
    "version": 3
   },
   "file_extension": ".py",
   "mimetype": "text/x-python",
   "name": "python",
   "nbconvert_exporter": "python",
   "pygments_lexer": "ipython3",
   "version": "3.10.10"
  }
 },
 "nbformat": 4,
 "nbformat_minor": 5
}
