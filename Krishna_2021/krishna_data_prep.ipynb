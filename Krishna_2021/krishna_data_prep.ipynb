{
 "cells": [
  {
   "cell_type": "code",
   "execution_count": 1,
   "id": "3df40e33",
   "metadata": {},
   "outputs": [],
   "source": [
    "import scanpy as sc\n",
    "import numpy as np\n",
    "import pandas as pd\n",
    "import synapseclient\n",
    "import mygene\n",
    "from scipy.sparse import csr_matrix"
   ]
  },
  {
   "cell_type": "markdown",
   "id": "eb109ee8",
   "metadata": {},
   "source": [
    "# Krishna 2021 dataset\n",
    "Source: https://trace.ncbi.nlm.nih.gov/Traces/index.html?view=analysis&acc=SRZ190804\n",
    "\n",
    "Stored at: https://www.synapse.org/#!Synapse:syn54861463"
   ]
  },
  {
   "cell_type": "code",
   "execution_count": 2,
   "id": "ff934657-af65-41c9-b0e3-481db3c046fc",
   "metadata": {},
   "outputs": [
    {
     "name": "stdout",
     "output_type": "stream",
     "text": [
      "Welcome, heimann!\n",
      "\n"
     ]
    }
   ],
   "source": [
    "syn = synapseclient.Synapse()\n",
    "syn.login()"
   ]
  },
  {
   "cell_type": "markdown",
   "id": "829e78b9-c0ad-43b3-9bd8-183bc3b18480",
   "metadata": {},
   "source": [
    "## Loading metadata"
   ]
  },
  {
   "cell_type": "code",
   "execution_count": 3,
   "id": "e80b8d16",
   "metadata": {
    "scrolled": true
   },
   "outputs": [
    {
     "name": "stdout",
     "output_type": "stream",
     "text": [
      "File: krishna2021_metadata.csv (syn56438105)\n",
      "  md5=52ffadd67e319039566e07ceeef9580a\n",
      "  fileSize=30794830\n",
      "  contentType=text/csv\n",
      "  externalURL=None\n",
      "  cacheDir=/Users/heimann/.synapseCache/11/137425011\n",
      "  files=['krishna2021_metadata.csv']\n",
      "  path=/Users/heimann/.synapseCache/11/137425011/krishna2021_metadata.csv\n",
      "  synapseStore=True\n",
      "properties:\n",
      "  concreteType=org.sagebionetworks.repo.model.FileEntity\n",
      "  createdBy=3398555\n",
      "  createdOn=2024-04-11T17:07:40.501Z\n",
      "  dataFileHandleId=137425011\n",
      "  etag=595d4d92-b577-4a57-b8c8-43fc3291ead7\n",
      "  id=syn56438105\n",
      "  isLatestVersion=True\n",
      "  modifiedBy=3398555\n",
      "  modifiedOn=2024-04-11T17:07:40.501Z\n",
      "  name=krishna2021_metadata.csv\n",
      "  parentId=syn54858333\n",
      "  versionLabel=1\n",
      "  versionNumber=1\n",
      "annotations:\n",
      "\n"
     ]
    },
    {
     "data": {
      "text/plain": [
       "array(['Unnamed: 0', 'orig.ident', 'res.0.2', 'res.0.3', 'res.0.4',\n",
       "       'res.0.5', 'res.0.6', 'res.0.7', 'res.0.8', 'res.0.9', 'cell',\n",
       "       'region', 'type', 'Sample', 'Sample2', 'b1', 'b2', 'b3', 'b4',\n",
       "       'b5', 'b6', 'cluster', 'nCount_RNA', 'nFeature_RNA'], dtype=object)"
      ]
     },
     "execution_count": 3,
     "metadata": {},
     "output_type": "execute_result"
    }
   ],
   "source": [
    "#Load metadata\n",
    "\n",
    "#metadata extracted from Seurat file\n",
    "entity = syn.get('syn56438105')\n",
    "print(entity)\n",
    "metadata = pd.read_csv(entity.path)\n",
    "\n",
    "metadata.columns.values"
   ]
  },
  {
   "cell_type": "code",
   "execution_count": 4,
   "id": "53914684-d3e4-4d6b-8155-2ce1f0b77f75",
   "metadata": {},
   "outputs": [
    {
     "name": "stdout",
     "output_type": "stream",
     "text": [
      "region ['Center' 'Upper' 'Lower' 'Far' 'Near' 'Normal' 'SupraLateral'\n",
      " 'LowerLateral' 'LowerMedial' 'PBMC' 'LymphNode' 'Lateral' 'Medial']\n",
      "type ['Tumor' 'Normal' 'PBMC' 'LymphNode']\n",
      "Sample ['UT1' 'UT2' 't1' 't2' 't3' 't4']\n",
      "Sample2 ['UT1_Center' 'UT1_Upper' 'UT1_Lower' 'UT2_Center' 'UT2_Far' 'UT2_Near'\n",
      " 'UT2_Normal' 'UT1_Normal' 't1_SupraLateral' 't1_LowerLateral'\n",
      " 't1_LowerMedial' 't1_Normal' 't1_PBMC' 't2_Center' 't2_Far' 't2_Near'\n",
      " 't2_LymphNode' 't2_Normal' 't2_PBMC' 't3_Center' 't3_Far' 't3_Near'\n",
      " 't3_Normal' 't3_PBMC' 't4_Center' 't4_Lateral' 't4_Medial' 't4_Normal'\n",
      " 't4_PBMC']\n",
      "cluster [ 4 15 19 10  2 11 17  7 18  9  1  0 14  5 20  3 13 12 24  8 21 32 23 16\n",
      " 31 30 22  6 25 27 33 28 34 26 29]\n"
     ]
    }
   ],
   "source": [
    "# Some annotation in obs seem to be clinical annotation\n",
    "print(\"region\", metadata[\"region\"].unique())\n",
    "print(\"type\", metadata[\"type\"].unique())\n",
    "print(\"Sample\", metadata[\"Sample\"].unique())\n",
    "print(\"Sample2\", metadata[\"Sample2\"].unique())\n",
    "print(\"cluster\", metadata[\"cluster\"].unique())"
   ]
  },
  {
   "cell_type": "code",
   "execution_count": 7,
   "id": "9059ef19-22fa-4191-9728-db2db46ca51b",
   "metadata": {},
   "outputs": [
    {
     "data": {
      "text/html": [
       "<div>\n",
       "<style scoped>\n",
       "    .dataframe tbody tr th:only-of-type {\n",
       "        vertical-align: middle;\n",
       "    }\n",
       "\n",
       "    .dataframe tbody tr th {\n",
       "        vertical-align: top;\n",
       "    }\n",
       "\n",
       "    .dataframe thead th {\n",
       "        text-align: right;\n",
       "    }\n",
       "</style>\n",
       "<table border=\"1\" class=\"dataframe\">\n",
       "  <thead>\n",
       "    <tr style=\"text-align: right;\">\n",
       "      <th></th>\n",
       "      <th>cell</th>\n",
       "      <th>type</th>\n",
       "      <th>region</th>\n",
       "      <th>Sample</th>\n",
       "      <th>Sample2</th>\n",
       "      <th>cluster</th>\n",
       "      <th>cluster_name</th>\n",
       "      <th>UMAP1</th>\n",
       "      <th>UMAP2</th>\n",
       "      <th>Sample_name</th>\n",
       "    </tr>\n",
       "  </thead>\n",
       "  <tbody>\n",
       "    <tr>\n",
       "      <th>0</th>\n",
       "      <td>AAACCTGAGCGTTGCC-1_UT1_Center</td>\n",
       "      <td>Tumor</td>\n",
       "      <td>Center</td>\n",
       "      <td>UT1</td>\n",
       "      <td>UT1_Center</td>\n",
       "      <td>4</td>\n",
       "      <td>CD8A+ NK-like</td>\n",
       "      <td>5.896925</td>\n",
       "      <td>-4.373115</td>\n",
       "      <td>Untreated 1</td>\n",
       "    </tr>\n",
       "    <tr>\n",
       "      <th>1</th>\n",
       "      <td>AAACCTGAGCTGCCCA-1_UT1_Center</td>\n",
       "      <td>Tumor</td>\n",
       "      <td>Center</td>\n",
       "      <td>UT1</td>\n",
       "      <td>UT1_Center</td>\n",
       "      <td>15</td>\n",
       "      <td>CD8A+ Proliferating</td>\n",
       "      <td>3.004102</td>\n",
       "      <td>1.834490</td>\n",
       "      <td>Untreated 1</td>\n",
       "    </tr>\n",
       "    <tr>\n",
       "      <th>2</th>\n",
       "      <td>AAACCTGAGTGGACGT-1_UT1_Center</td>\n",
       "      <td>Tumor</td>\n",
       "      <td>Center</td>\n",
       "      <td>UT1</td>\n",
       "      <td>UT1_Center</td>\n",
       "      <td>19</td>\n",
       "      <td>CD8A+ Exhausted IEG</td>\n",
       "      <td>1.148642</td>\n",
       "      <td>1.801541</td>\n",
       "      <td>Untreated 1</td>\n",
       "    </tr>\n",
       "    <tr>\n",
       "      <th>3</th>\n",
       "      <td>AAACCTGCAGGTCGTC-1_UT1_Center</td>\n",
       "      <td>Tumor</td>\n",
       "      <td>Center</td>\n",
       "      <td>UT1</td>\n",
       "      <td>UT1_Center</td>\n",
       "      <td>10</td>\n",
       "      <td>Conventional NK</td>\n",
       "      <td>3.649340</td>\n",
       "      <td>-8.709116</td>\n",
       "      <td>Untreated 1</td>\n",
       "    </tr>\n",
       "    <tr>\n",
       "      <th>4</th>\n",
       "      <td>AAACCTGCAGGTCTCG-1_UT1_Center</td>\n",
       "      <td>Tumor</td>\n",
       "      <td>Center</td>\n",
       "      <td>UT1</td>\n",
       "      <td>UT1_Center</td>\n",
       "      <td>2</td>\n",
       "      <td>CD8A+ Tissue-resident</td>\n",
       "      <td>4.961056</td>\n",
       "      <td>-0.395439</td>\n",
       "      <td>Untreated 1</td>\n",
       "    </tr>\n",
       "  </tbody>\n",
       "</table>\n",
       "</div>"
      ],
      "text/plain": [
       "                            cell   type  region Sample     Sample2  cluster  \\\n",
       "0  AAACCTGAGCGTTGCC-1_UT1_Center  Tumor  Center    UT1  UT1_Center        4   \n",
       "1  AAACCTGAGCTGCCCA-1_UT1_Center  Tumor  Center    UT1  UT1_Center       15   \n",
       "2  AAACCTGAGTGGACGT-1_UT1_Center  Tumor  Center    UT1  UT1_Center       19   \n",
       "3  AAACCTGCAGGTCGTC-1_UT1_Center  Tumor  Center    UT1  UT1_Center       10   \n",
       "4  AAACCTGCAGGTCTCG-1_UT1_Center  Tumor  Center    UT1  UT1_Center        2   \n",
       "\n",
       "            cluster_name     UMAP1     UMAP2  Sample_name  \n",
       "0          CD8A+ NK-like  5.896925 -4.373115  Untreated 1  \n",
       "1    CD8A+ Proliferating  3.004102  1.834490  Untreated 1  \n",
       "2    CD8A+ Exhausted IEG  1.148642  1.801541  Untreated 1  \n",
       "3        Conventional NK  3.649340 -8.709116  Untreated 1  \n",
       "4  CD8A+ Tissue-resident  4.961056 -0.395439  Untreated 1  "
      ]
     },
     "execution_count": 7,
     "metadata": {},
     "output_type": "execute_result"
    }
   ],
   "source": [
    "#The authors also made available a file with cell annotations\n",
    "entity = syn.get('syn59205039')\n",
    "cell_annot = pd.read_csv(entity.path, sep='\\t')\n",
    "cell_annot.head()"
   ]
  },
  {
   "cell_type": "code",
   "execution_count": 8,
   "id": "4cb4d333-30b2-4626-935f-1a90155539b7",
   "metadata": {},
   "outputs": [
    {
     "data": {
      "text/plain": [
       "array(['CD8A+ NK-like', 'CD8A+ Proliferating', 'CD8A+ Exhausted IEG',\n",
       "       'Conventional NK', 'CD8A+ Tissue-resident',\n",
       "       'CD45- Vascular Endothelium', 'NK HSP+', 'CD4+ Activated IEG',\n",
       "       'TAM/TCR (Ambiguos)', 'CD45- PAX8+ renal epithelium', 'TAM HLAhi',\n",
       "       'CD8A+ Exhausted', 'CD14+ Monocyte', 'CD14+/CD16+ Monocyte',\n",
       "       'CD45- Myofibroblast', 'CD4+ Naive', 'cDC2', 'TAM HLAint',\n",
       "       'Ambiguous', 'Mast', 'CD4+ Proliferating', 'CD45- ccRCC CA9+',\n",
       "       'CD4+ Effector', 'TAM ISGint', 'B cell', 'CD4+ Treg', 'TAM ISGhi',\n",
       "       'cDC1', 'Megakaryocyte', 'pDC', 'Ambiguous/Dead'], dtype=object)"
      ]
     },
     "execution_count": 8,
     "metadata": {},
     "output_type": "execute_result"
    }
   ],
   "source": [
    "#Inspect more closely unique values for each column\n",
    "pd.unique(cell_annot[\"cluster_name\"])"
   ]
  },
  {
   "cell_type": "markdown",
   "id": "4f18bde0",
   "metadata": {},
   "source": [
    "# QC"
   ]
  },
  {
   "cell_type": "markdown",
   "id": "3abd2dd1",
   "metadata": {},
   "source": [
    "According to the study manuscript, the following filtering was performed:\n",
    "\n",
    "*the count matrix of cell barcodes by genes used for downstream analysis was generated using the Cell Ranger count function with parameter –expect-cells = 3000. The raw count matrix for each of the 29 samples was obtained from the Cell Ranger count filter_matrix output. Briefly, for each sample, Cell Ranger plots the total UMI count against the cell barcode rank in decreasing order of total counts and filters cell barcodes out of the resulting count matrix based on the inflection point of the plot. This step minimizes the number of empty droplets that are included in downstream analyses. We created an initial count matrix combining all 29 samples from all patients. Following count matrix generation, cells with >20% of transcripts derived from mitochondrial genes were considered apoptotic and were thus excluded. Following this step, all mitochondrial genes were filtered out of the count matrix. Ribosomal genes and the noncoding RNAs NEAT1 and MALAT1 were excluded due to prior reports of strong influence on downstream clustering (Freytag et al., 2018). Genes with mean raw count <3.0 were removed from\n",
    "the analysis, resulting in a count matrix of 167283 cells and 16,323 genes for downstream analysis.*\n",
    "\n",
    "However, there is no record of these metrics in the object. We only know that the file wennt through preprocessing because the number of cells and genes match the described in the manuscript. We will not make any additional filtering at this moment."
   ]
  },
  {
   "cell_type": "markdown",
   "id": "e95d2892-24e4-4699-b3d9-b7270dc5cba5",
   "metadata": {},
   "source": [
    "# Building the counts matrix\n",
    "\n",
    "We have the counts stored in two files. We will need to:\n",
    "\n",
    "- load\n",
    "- change the transcripts ids to gene ids\n",
    "- exclude genes not required in the GSEA step (optional)\n",
    "- convert to matrix format\n",
    "- store it as an anndata file, with patient ids and cell type clusters in obs"
   ]
  },
  {
   "cell_type": "code",
   "execution_count": 9,
   "id": "f8ff482b-474d-4b13-bcc2-37e245300f38",
   "metadata": {},
   "outputs": [
    {
     "ename": "KeyboardInterrupt",
     "evalue": "",
     "output_type": "error",
     "traceback": [
      "\u001b[0;31m---------------------------------------------------------------------------\u001b[0m",
      "\u001b[0;31mKeyboardInterrupt\u001b[0m                         Traceback (most recent call last)",
      "Cell \u001b[0;32mIn[9], line 8\u001b[0m\n\u001b[1;32m      6\u001b[0m entity \u001b[38;5;241m=\u001b[39m syn\u001b[38;5;241m.\u001b[39mget(\u001b[38;5;124m'\u001b[39m\u001b[38;5;124msyn56875708\u001b[39m\u001b[38;5;124m'\u001b[39m)\n\u001b[1;32m      7\u001b[0m entity\n\u001b[0;32m----> 8\u001b[0m k2 \u001b[38;5;241m=\u001b[39m \u001b[43mpd\u001b[49m\u001b[38;5;241;43m.\u001b[39;49m\u001b[43mread_feather\u001b[49m\u001b[43m(\u001b[49m\u001b[43mentity\u001b[49m\u001b[38;5;241;43m.\u001b[39;49m\u001b[43mpath\u001b[49m\u001b[43m)\u001b[49m\n",
      "File \u001b[0;32m/Library/Frameworks/Python.framework/Versions/3.10/lib/python3.10/site-packages/pandas/io/feather_format.py:129\u001b[0m, in \u001b[0;36mread_feather\u001b[0;34m(path, columns, use_threads, storage_options, dtype_backend)\u001b[0m\n\u001b[1;32m    125\u001b[0m \u001b[38;5;28;01mwith\u001b[39;00m get_handle(\n\u001b[1;32m    126\u001b[0m     path, \u001b[38;5;124m\"\u001b[39m\u001b[38;5;124mrb\u001b[39m\u001b[38;5;124m\"\u001b[39m, storage_options\u001b[38;5;241m=\u001b[39mstorage_options, is_text\u001b[38;5;241m=\u001b[39m\u001b[38;5;28;01mFalse\u001b[39;00m\n\u001b[1;32m    127\u001b[0m ) \u001b[38;5;28;01mas\u001b[39;00m handles:\n\u001b[1;32m    128\u001b[0m     \u001b[38;5;28;01mif\u001b[39;00m dtype_backend \u001b[38;5;129;01mis\u001b[39;00m lib\u001b[38;5;241m.\u001b[39mno_default \u001b[38;5;129;01mand\u001b[39;00m \u001b[38;5;129;01mnot\u001b[39;00m using_pyarrow_string_dtype():\n\u001b[0;32m--> 129\u001b[0m         \u001b[38;5;28;01mreturn\u001b[39;00m \u001b[43mfeather\u001b[49m\u001b[38;5;241;43m.\u001b[39;49m\u001b[43mread_feather\u001b[49m\u001b[43m(\u001b[49m\n\u001b[1;32m    130\u001b[0m \u001b[43m            \u001b[49m\u001b[43mhandles\u001b[49m\u001b[38;5;241;43m.\u001b[39;49m\u001b[43mhandle\u001b[49m\u001b[43m,\u001b[49m\u001b[43m \u001b[49m\u001b[43mcolumns\u001b[49m\u001b[38;5;241;43m=\u001b[39;49m\u001b[43mcolumns\u001b[49m\u001b[43m,\u001b[49m\u001b[43m \u001b[49m\u001b[43muse_threads\u001b[49m\u001b[38;5;241;43m=\u001b[39;49m\u001b[38;5;28;43mbool\u001b[39;49m\u001b[43m(\u001b[49m\u001b[43muse_threads\u001b[49m\u001b[43m)\u001b[49m\n\u001b[1;32m    131\u001b[0m \u001b[43m        \u001b[49m\u001b[43m)\u001b[49m\n\u001b[1;32m    133\u001b[0m     pa_table \u001b[38;5;241m=\u001b[39m feather\u001b[38;5;241m.\u001b[39mread_table(\n\u001b[1;32m    134\u001b[0m         handles\u001b[38;5;241m.\u001b[39mhandle, columns\u001b[38;5;241m=\u001b[39mcolumns, use_threads\u001b[38;5;241m=\u001b[39m\u001b[38;5;28mbool\u001b[39m(use_threads)\n\u001b[1;32m    135\u001b[0m     )\n\u001b[1;32m    137\u001b[0m     \u001b[38;5;28;01mif\u001b[39;00m dtype_backend \u001b[38;5;241m==\u001b[39m \u001b[38;5;124m\"\u001b[39m\u001b[38;5;124mnumpy_nullable\u001b[39m\u001b[38;5;124m\"\u001b[39m:\n",
      "File \u001b[0;32m/Library/Frameworks/Python.framework/Versions/3.10/lib/python3.10/site-packages/pyarrow/feather.py:226\u001b[0m, in \u001b[0;36mread_feather\u001b[0;34m(source, columns, use_threads, memory_map, **kwargs)\u001b[0m\n\u001b[1;32m    199\u001b[0m \u001b[38;5;28;01mdef\u001b[39;00m \u001b[38;5;21mread_feather\u001b[39m(source, columns\u001b[38;5;241m=\u001b[39m\u001b[38;5;28;01mNone\u001b[39;00m, use_threads\u001b[38;5;241m=\u001b[39m\u001b[38;5;28;01mTrue\u001b[39;00m,\n\u001b[1;32m    200\u001b[0m                  memory_map\u001b[38;5;241m=\u001b[39m\u001b[38;5;28;01mFalse\u001b[39;00m, \u001b[38;5;241m*\u001b[39m\u001b[38;5;241m*\u001b[39mkwargs):\n\u001b[1;32m    201\u001b[0m \u001b[38;5;250m    \u001b[39m\u001b[38;5;124;03m\"\"\"\u001b[39;00m\n\u001b[1;32m    202\u001b[0m \u001b[38;5;124;03m    Read a pandas.DataFrame from Feather format. To read as pyarrow.Table use\u001b[39;00m\n\u001b[1;32m    203\u001b[0m \u001b[38;5;124;03m    feather.read_table.\u001b[39;00m\n\u001b[0;32m   (...)\u001b[0m\n\u001b[1;32m    224\u001b[0m \u001b[38;5;124;03m        The contents of the Feather file as a pandas.DataFrame\u001b[39;00m\n\u001b[1;32m    225\u001b[0m \u001b[38;5;124;03m    \"\"\"\u001b[39;00m\n\u001b[0;32m--> 226\u001b[0m     \u001b[38;5;28;01mreturn\u001b[39;00m (\u001b[43mread_table\u001b[49m\u001b[43m(\u001b[49m\n\u001b[1;32m    227\u001b[0m \u001b[43m        \u001b[49m\u001b[43msource\u001b[49m\u001b[43m,\u001b[49m\u001b[43m \u001b[49m\u001b[43mcolumns\u001b[49m\u001b[38;5;241;43m=\u001b[39;49m\u001b[43mcolumns\u001b[49m\u001b[43m,\u001b[49m\u001b[43m \u001b[49m\u001b[43mmemory_map\u001b[49m\u001b[38;5;241;43m=\u001b[39;49m\u001b[43mmemory_map\u001b[49m\u001b[43m,\u001b[49m\n\u001b[1;32m    228\u001b[0m \u001b[43m        \u001b[49m\u001b[43muse_threads\u001b[49m\u001b[38;5;241;43m=\u001b[39;49m\u001b[43muse_threads\u001b[49m\u001b[43m)\u001b[49m\u001b[38;5;241;43m.\u001b[39;49m\u001b[43mto_pandas\u001b[49m\u001b[43m(\u001b[49m\u001b[43muse_threads\u001b[49m\u001b[38;5;241;43m=\u001b[39;49m\u001b[43muse_threads\u001b[49m\u001b[43m,\u001b[49m\u001b[43m \u001b[49m\u001b[38;5;241;43m*\u001b[39;49m\u001b[38;5;241;43m*\u001b[39;49m\u001b[43mkwargs\u001b[49m\u001b[43m)\u001b[49m)\n",
      "File \u001b[0;32m/Library/Frameworks/Python.framework/Versions/3.10/lib/python3.10/site-packages/pyarrow/array.pxi:884\u001b[0m, in \u001b[0;36mpyarrow.lib._PandasConvertible.to_pandas\u001b[0;34m()\u001b[0m\n",
      "File \u001b[0;32m/Library/Frameworks/Python.framework/Versions/3.10/lib/python3.10/site-packages/pyarrow/table.pxi:4192\u001b[0m, in \u001b[0;36mpyarrow.lib.Table._to_pandas\u001b[0;34m()\u001b[0m\n",
      "File \u001b[0;32m/Library/Frameworks/Python.framework/Versions/3.10/lib/python3.10/site-packages/pyarrow/pandas_compat.py:776\u001b[0m, in \u001b[0;36mtable_to_dataframe\u001b[0;34m(options, table, categories, ignore_metadata, types_mapper)\u001b[0m\n\u001b[1;32m    774\u001b[0m _check_data_column_metadata_consistency(all_columns)\n\u001b[1;32m    775\u001b[0m columns \u001b[38;5;241m=\u001b[39m _deserialize_column_index(table, all_columns, column_indexes)\n\u001b[0;32m--> 776\u001b[0m blocks \u001b[38;5;241m=\u001b[39m \u001b[43m_table_to_blocks\u001b[49m\u001b[43m(\u001b[49m\u001b[43moptions\u001b[49m\u001b[43m,\u001b[49m\u001b[43m \u001b[49m\u001b[43mtable\u001b[49m\u001b[43m,\u001b[49m\u001b[43m \u001b[49m\u001b[43mcategories\u001b[49m\u001b[43m,\u001b[49m\u001b[43m \u001b[49m\u001b[43mext_columns_dtypes\u001b[49m\u001b[43m)\u001b[49m\n\u001b[1;32m    778\u001b[0m axes \u001b[38;5;241m=\u001b[39m [columns, index]\n\u001b[1;32m    779\u001b[0m mgr \u001b[38;5;241m=\u001b[39m BlockManager(blocks, axes)\n",
      "File \u001b[0;32m/Library/Frameworks/Python.framework/Versions/3.10/lib/python3.10/site-packages/pyarrow/pandas_compat.py:1129\u001b[0m, in \u001b[0;36m_table_to_blocks\u001b[0;34m(options, block_table, categories, extension_columns)\u001b[0m\n\u001b[1;32m   1124\u001b[0m \u001b[38;5;28;01mdef\u001b[39;00m \u001b[38;5;21m_table_to_blocks\u001b[39m(options, block_table, categories, extension_columns):\n\u001b[1;32m   1125\u001b[0m     \u001b[38;5;66;03m# Part of table_to_blockmanager\u001b[39;00m\n\u001b[1;32m   1126\u001b[0m \n\u001b[1;32m   1127\u001b[0m     \u001b[38;5;66;03m# Convert an arrow table to Block from the internal pandas API\u001b[39;00m\n\u001b[1;32m   1128\u001b[0m     columns \u001b[38;5;241m=\u001b[39m block_table\u001b[38;5;241m.\u001b[39mcolumn_names\n\u001b[0;32m-> 1129\u001b[0m     result \u001b[38;5;241m=\u001b[39m \u001b[43mpa\u001b[49m\u001b[38;5;241;43m.\u001b[39;49m\u001b[43mlib\u001b[49m\u001b[38;5;241;43m.\u001b[39;49m\u001b[43mtable_to_blocks\u001b[49m\u001b[43m(\u001b[49m\u001b[43moptions\u001b[49m\u001b[43m,\u001b[49m\u001b[43m \u001b[49m\u001b[43mblock_table\u001b[49m\u001b[43m,\u001b[49m\u001b[43m \u001b[49m\u001b[43mcategories\u001b[49m\u001b[43m,\u001b[49m\n\u001b[1;32m   1130\u001b[0m \u001b[43m                                    \u001b[49m\u001b[38;5;28;43mlist\u001b[39;49m\u001b[43m(\u001b[49m\u001b[43mextension_columns\u001b[49m\u001b[38;5;241;43m.\u001b[39;49m\u001b[43mkeys\u001b[49m\u001b[43m(\u001b[49m\u001b[43m)\u001b[49m\u001b[43m)\u001b[49m\u001b[43m)\u001b[49m\n\u001b[1;32m   1131\u001b[0m     \u001b[38;5;28;01mreturn\u001b[39;00m [_reconstruct_block(item, columns, extension_columns)\n\u001b[1;32m   1132\u001b[0m             \u001b[38;5;28;01mfor\u001b[39;00m item \u001b[38;5;129;01min\u001b[39;00m result]\n",
      "\u001b[0;31mKeyboardInterrupt\u001b[0m: "
     ]
    }
   ],
   "source": [
    "#loading files\n",
    "entity = syn.get('syn56559704')\n",
    "entity\n",
    "k1 = pd.read_feather(entity.path)\n",
    "\n",
    "entity = syn.get('syn56875708')\n",
    "entity\n",
    "k2 = pd.read_feather(entity.path)"
   ]
  },
  {
   "cell_type": "code",
   "execution_count": 21,
   "id": "0ab255fa-47c7-48cb-9411-7f3cb003ff25",
   "metadata": {},
   "outputs": [
    {
     "data": {
      "text/html": [
       "<div>\n",
       "<style scoped>\n",
       "    .dataframe tbody tr th:only-of-type {\n",
       "        vertical-align: middle;\n",
       "    }\n",
       "\n",
       "    .dataframe tbody tr th {\n",
       "        vertical-align: top;\n",
       "    }\n",
       "\n",
       "    .dataframe thead th {\n",
       "        text-align: right;\n",
       "    }\n",
       "</style>\n",
       "<table border=\"1\" class=\"dataframe\">\n",
       "  <thead>\n",
       "    <tr style=\"text-align: right;\">\n",
       "      <th></th>\n",
       "      <th>row</th>\n",
       "      <th>col</th>\n",
       "      <th>x</th>\n",
       "    </tr>\n",
       "  </thead>\n",
       "  <tbody>\n",
       "    <tr>\n",
       "      <th>0</th>\n",
       "      <td>ENSG00000071073</td>\n",
       "      <td>CCGGGATCACCAGTTA-1_t2_Center</td>\n",
       "      <td>1.0</td>\n",
       "    </tr>\n",
       "    <tr>\n",
       "      <th>1</th>\n",
       "      <td>ENSG00000196872</td>\n",
       "      <td>CCGGGATCACCAGTTA-1_t2_Center</td>\n",
       "      <td>1.0</td>\n",
       "    </tr>\n",
       "    <tr>\n",
       "      <th>2</th>\n",
       "      <td>ENSG00000158417</td>\n",
       "      <td>CCGGGATCACCAGTTA-1_t2_Center</td>\n",
       "      <td>2.0</td>\n",
       "    </tr>\n",
       "    <tr>\n",
       "      <th>3</th>\n",
       "      <td>ENSG00000115539</td>\n",
       "      <td>CCGGGATCACCAGTTA-1_t2_Center</td>\n",
       "      <td>1.0</td>\n",
       "    </tr>\n",
       "    <tr>\n",
       "      <th>4</th>\n",
       "      <td>ENSG00000163162</td>\n",
       "      <td>CCGGGATCACCAGTTA-1_t2_Center</td>\n",
       "      <td>7.0</td>\n",
       "    </tr>\n",
       "    <tr>\n",
       "      <th>5</th>\n",
       "      <td>ENSG00000135972</td>\n",
       "      <td>CCGGGATCACCAGTTA-1_t2_Center</td>\n",
       "      <td>1.0</td>\n",
       "    </tr>\n",
       "    <tr>\n",
       "      <th>6</th>\n",
       "      <td>ENSG00000169756</td>\n",
       "      <td>CCGGGATCACCAGTTA-1_t2_Center</td>\n",
       "      <td>3.0</td>\n",
       "    </tr>\n",
       "    <tr>\n",
       "      <th>7</th>\n",
       "      <td>ENSG00000153201</td>\n",
       "      <td>CCGGGATCACCAGTTA-1_t2_Center</td>\n",
       "      <td>1.0</td>\n",
       "    </tr>\n",
       "    <tr>\n",
       "      <th>8</th>\n",
       "      <td>ENSG00000224959</td>\n",
       "      <td>CCGGGATCACCAGTTA-1_t2_Center</td>\n",
       "      <td>1.0</td>\n",
       "    </tr>\n",
       "    <tr>\n",
       "      <th>9</th>\n",
       "      <td>ENSG00000188177</td>\n",
       "      <td>CCGGGATCACCAGTTA-1_t2_Center</td>\n",
       "      <td>2.0</td>\n",
       "    </tr>\n",
       "  </tbody>\n",
       "</table>\n",
       "</div>"
      ],
      "text/plain": [
       "               row                           col    x\n",
       "0  ENSG00000071073  CCGGGATCACCAGTTA-1_t2_Center  1.0\n",
       "1  ENSG00000196872  CCGGGATCACCAGTTA-1_t2_Center  1.0\n",
       "2  ENSG00000158417  CCGGGATCACCAGTTA-1_t2_Center  2.0\n",
       "3  ENSG00000115539  CCGGGATCACCAGTTA-1_t2_Center  1.0\n",
       "4  ENSG00000163162  CCGGGATCACCAGTTA-1_t2_Center  7.0\n",
       "5  ENSG00000135972  CCGGGATCACCAGTTA-1_t2_Center  1.0\n",
       "6  ENSG00000169756  CCGGGATCACCAGTTA-1_t2_Center  3.0\n",
       "7  ENSG00000153201  CCGGGATCACCAGTTA-1_t2_Center  1.0\n",
       "8  ENSG00000224959  CCGGGATCACCAGTTA-1_t2_Center  1.0\n",
       "9  ENSG00000188177  CCGGGATCACCAGTTA-1_t2_Center  2.0"
      ]
     },
     "execution_count": 21,
     "metadata": {},
     "output_type": "execute_result"
    }
   ],
   "source": [
    "k2.iloc[0:10]"
   ]
  },
  {
   "cell_type": "code",
   "execution_count": 7,
   "id": "85f221c8-2b1a-4028-b88f-cebc2817a7cf",
   "metadata": {},
   "outputs": [
    {
     "data": {
      "text/plain": [
       "(16323,)"
      ]
     },
     "execution_count": 7,
     "metadata": {},
     "output_type": "execute_result"
    }
   ],
   "source": [
    "#getting unique transcript ids\n",
    "transcripts = pd.concat([k1[\"row\"], k2[\"row\"]]).unique()\n",
    "transcripts.shape"
   ]
  },
  {
   "cell_type": "code",
   "execution_count": 8,
   "id": "5312a01c-4ba7-4048-881e-9cdefa80f992",
   "metadata": {},
   "outputs": [
    {
     "name": "stderr",
     "output_type": "stream",
     "text": [
      "1 input query terms found dup hits:\t[('ENSG00000249738', 2)]\n",
      "350 input query terms found no hit:\t['ENSG00000231360', 'ENSG00000117289', 'ENSG00000131795', 'ENSG00000136653', 'ENSG00000269028', 'ENS\n"
     ]
    }
   ],
   "source": [
    "#getting gene symbols from transcript ids\n",
    "mg = mygene.MyGeneInfo()\n",
    "geneSyms = mg.querymany(transcripts, scopes='ensembl.gene', fields='symbol', species='human', returnall = False)"
   ]
  },
  {
   "cell_type": "code",
   "execution_count": 9,
   "id": "f712c812-8429-4159-8d94-25c50dcafbc2",
   "metadata": {},
   "outputs": [],
   "source": [
    "#Saving data in a dictionary\n",
    "ensembl_to_genesymbol = {} \n",
    "ensembl_without_genesymbol = {} \n",
    "for line in geneSyms:\n",
    "    try: \n",
    "        line[\"symbol\"]\n",
    "    except:\n",
    "        ensembl_without_genesymbol[line[\"query\"]] = line[\"query\"]\n",
    "    else: \n",
    "        ensembl_to_genesymbol[line[\"query\"]] = line[\"symbol\"]                "
   ]
  },
  {
   "cell_type": "code",
   "execution_count": 18,
   "id": "ea02d748-0c91-43c7-9ac3-2de4a30b115b",
   "metadata": {},
   "outputs": [],
   "source": [
    "#removing from the counts tables the transcripts without gene ids (they are mostly RNA genes)\n",
    "fk1 = k1[~k1[\"row\"].isin(ensembl_without_genesymbol.keys())]\n",
    "fk2 = k2[~k2[\"row\"].isin(ensembl_without_genesymbol.keys())]"
   ]
  },
  {
   "cell_type": "code",
   "execution_count": 85,
   "id": "77b7869b-971f-499a-9de6-deed428f2ee3",
   "metadata": {},
   "outputs": [
    {
     "name": "stdout",
     "output_type": "stream",
     "text": [
      "(120000000, 3)\n",
      "(118559029, 3)\n",
      "(123448230, 3)\n",
      "(121979334, 3)\n"
     ]
    }
   ],
   "source": [
    "print(k1.shape)\n",
    "print(fk1.shape)\n",
    "print(k2.shape)\n",
    "print(fk2.shape)"
   ]
  },
  {
   "cell_type": "code",
   "execution_count": 19,
   "id": "f3b78dd1-1b60-432f-a6df-65d6e706feed",
   "metadata": {},
   "outputs": [],
   "source": [
    "#we're also excluding cells that are labeled as type: 'Ambiguous/Dead', 'TAM/TCR (Ambiguos)', 'Ambiguous'\n",
    "cell_exclude = cell_annot[cell_annot[\"cluster_name\"].isin(['Ambiguous/Dead', 'TAM/TCR (Ambiguos)', 'Ambiguous'])][\"cell\"]\n",
    "\n",
    "fk1 = fk1[~fk1[\"col\"].isin(cell_exclude)]\n",
    "fk2 = fk2[~fk2[\"col\"].isin(cell_exclude)]"
   ]
  },
  {
   "cell_type": "code",
   "execution_count": 90,
   "id": "8e9687fc-7897-458b-a18c-5f398f9a380c",
   "metadata": {},
   "outputs": [
    {
     "name": "stdout",
     "output_type": "stream",
     "text": [
      "(112108495, 3)\n",
      "(113461358, 3)\n"
     ]
    }
   ],
   "source": [
    "print(fk1.shape)\n",
    "print(fk2.shape)"
   ]
  },
  {
   "cell_type": "code",
   "execution_count": 15,
   "id": "8a6d06ae-b615-4621-9c26-bfad9dc5a7b0",
   "metadata": {},
   "outputs": [
    {
     "ename": "AttributeError",
     "evalue": "'NoneType' object has no attribute 'iloc'",
     "output_type": "error",
     "traceback": [
      "\u001b[0;31m---------------------------------------------------------------------------\u001b[0m",
      "\u001b[0;31mAttributeError\u001b[0m                            Traceback (most recent call last)",
      "Cell \u001b[0;32mIn[15], line 2\u001b[0m\n\u001b[1;32m      1\u001b[0m \u001b[38;5;66;03m#replacing ensembl ids with gene symbol\u001b[39;00m\n\u001b[0;32m----> 2\u001b[0m fk1 \u001b[38;5;241m=\u001b[39m \u001b[43mfk1\u001b[49m\u001b[38;5;241;43m.\u001b[39;49m\u001b[43miloc\u001b[49m[\u001b[38;5;241m0\u001b[39m:\u001b[38;5;241m100\u001b[39m]\u001b[38;5;241m.\u001b[39mreplace(to_replace \u001b[38;5;241m=\u001b[39m ensembl_to_genesymbol)\n",
      "\u001b[0;31mAttributeError\u001b[0m: 'NoneType' object has no attribute 'iloc'"
     ]
    }
   ],
   "source": [
    "#replacing ensembl ids with gene symbol\n",
    "fk1 = fk1.iloc[0:100].replace(to_replace = ensembl_to_genesymbol)"
   ]
  },
  {
   "cell_type": "code",
   "execution_count": 17,
   "id": "d0522966-a46d-4f7c-94d7-a5f518e90d09",
   "metadata": {},
   "outputs": [
    {
     "ename": "AttributeError",
     "evalue": "'NoneType' object has no attribute 'iloc'",
     "output_type": "error",
     "traceback": [
      "\u001b[0;31m---------------------------------------------------------------------------\u001b[0m",
      "\u001b[0;31mAttributeError\u001b[0m                            Traceback (most recent call last)",
      "Cell \u001b[0;32mIn[17], line 1\u001b[0m\n\u001b[0;32m----> 1\u001b[0m \u001b[43mfk1\u001b[49m\u001b[38;5;241;43m.\u001b[39;49m\u001b[43miloc\u001b[49m[\u001b[38;5;241m0\u001b[39m:\u001b[38;5;241m10\u001b[39m]\n",
      "\u001b[0;31mAttributeError\u001b[0m: 'NoneType' object has no attribute 'iloc'"
     ]
    }
   ],
   "source": [
    "fk1.iloc[0:10]"
   ]
  },
  {
   "cell_type": "code",
   "execution_count": null,
   "id": "f9e0048e-cd28-45fc-a36e-98d52e3e7c84",
   "metadata": {},
   "outputs": [],
   "source": [
    "fk2 = fk2.replace(to_replace = ensembl_to_genesymbol)"
   ]
  },
  {
   "cell_type": "markdown",
   "id": "d02d6839",
   "metadata": {},
   "source": [
    "# Formatting to run pseudobulk"
   ]
  },
  {
   "cell_type": "code",
   "execution_count": 33,
   "id": "14ae77d0",
   "metadata": {},
   "outputs": [
    {
     "name": "stdout",
     "output_type": "stream",
     "text": [
      "WARNING: adata.X seems to be already log-transformed.\n"
     ]
    },
    {
     "name": "stderr",
     "output_type": "stream",
     "text": [
      "/anaconda3/lib/python3.7/site-packages/anndata/_core/anndata.py:798: UserWarning: \n",
      "AnnData expects .var.index to contain strings, but got values like:\n",
      "    ['A1BG', 'A1CF', 'A2M', 'A2ML1', 'A3GALT2']\n",
      "\n",
      "    Inferred to be: categorical\n",
      "\n",
      "  value_idx = self._prep_dim_index(value.index, attr)\n"
     ]
    }
   ],
   "source": [
    "# #change gene id from ensembl to gene symbol (stored in var)\n",
    "adata.var = adata.var.reset_index().rename(columns={'gene_ids': 'ensembl_gene_id'}\n",
    "                                          ).set_index('feature_name')\n",
    "\n",
    "# save raw counts as a layer\n",
    "adata.layers['counts'] = adata.X\n",
    "\n",
    "# Normalize and log-transform\n",
    "sc.pp.normalize_total(adata, target_sum=1e4)\n",
    "sc.pp.log1p(adata)\n",
    "adata.layers['normalized'] = adata.X\n"
   ]
  },
  {
   "cell_type": "code",
   "execution_count": 35,
   "id": "860c6f86",
   "metadata": {
    "scrolled": true
   },
   "outputs": [
    {
     "data": {
      "text/plain": [
       "AnnData object with n_obs × n_vars = 16475 × 25090\n",
       "    obs: 'n_genes_by_counts', 'log1p_n_genes_by_counts', 'total_counts', 'log1p_total_counts', 'mito_frac', 'RBP_frac', 'batch', 'donor_id', 'treatment', 'procedure', 'author_cell_type', 'cell_type_broad', 'clusters', 'treatment_categorized', 'subtype', 'H_treatment', 'H_subtype', 'cell_type_ontology_term_id', 'tissue_ontology_term_id', 'disease_ontology_term_id', 'organism_ontology_term_id', 'is_primary_data', 'development_stage_ontology_term_id', 'assay_ontology_term_id', 'sex_ontology_term_id', 'self_reported_ethnicity_ontology_term_id', 'suspension_type', 'HTAN_Biospecimen_ID', 'HTAN_Participant_ID', 'cell_type', 'assay', 'disease', 'organism', 'sex', 'tissue', 'self_reported_ethnicity', 'development_stage'\n",
       "    var: 'ensembl_gene_id', 'feature_is_filtered', 'feature_reference', 'feature_biotype'\n",
       "    uns: 'neighbors', 'schema_version', 'title', 'log1p'\n",
       "    obsm: 'X_pca', 'X_umap'\n",
       "    layers: 'log2(X+0.1)', 'normalized', 'counts'\n",
       "    obsp: 'connectivities', 'distances'"
      ]
     },
     "execution_count": 35,
     "metadata": {},
     "output_type": "execute_result"
    }
   ],
   "source": [
    "adata"
   ]
  },
  {
   "cell_type": "code",
   "execution_count": 36,
   "id": "ebe88f3b",
   "metadata": {},
   "outputs": [],
   "source": [
    "adata.write('data/msk_SCLCimmunecells_iatlas.h5ad')"
   ]
  },
  {
   "cell_type": "code",
   "execution_count": 29,
   "id": "c410a497",
   "metadata": {},
   "outputs": [],
   "source": [
    "adata.to_df(layer = \"counts\").to_csv(\"msk_counts_data.csv\")"
   ]
  },
  {
   "cell_type": "code",
   "execution_count": null,
   "id": "11f9044c-18f4-40fe-891e-3b70eb5441d9",
   "metadata": {},
   "outputs": [],
   "source": []
  }
 ],
 "metadata": {
  "kernelspec": {
   "display_name": "Python 3 (ipykernel)",
   "language": "python",
   "name": "python3"
  },
  "language_info": {
   "codemirror_mode": {
    "name": "ipython",
    "version": 3
   },
   "file_extension": ".py",
   "mimetype": "text/x-python",
   "name": "python",
   "nbconvert_exporter": "python",
   "pygments_lexer": "ipython3",
   "version": "3.10.10"
  }
 },
 "nbformat": 4,
 "nbformat_minor": 5
}
